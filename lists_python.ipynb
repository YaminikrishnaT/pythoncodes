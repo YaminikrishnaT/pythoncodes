{
  "nbformat": 4,
  "nbformat_minor": 0,
  "metadata": {
    "colab": {
      "name": "lists_python",
      "version": "0.3.2",
      "provenance": [],
      "collapsed_sections": [],
      "include_colab_link": true
    },
    "kernelspec": {
      "name": "python3",
      "display_name": "Python 3"
    }
  },
  "cells": [
    {
      "cell_type": "markdown",
      "metadata": {
        "id": "view-in-github",
        "colab_type": "text"
      },
      "source": [
        "<a href=\"https://colab.research.google.com/github/YaminikrishnaT/pythoncodes/blob/master/lists_python.ipynb\" target=\"_parent\"><img src=\"https://colab.research.google.com/assets/colab-badge.svg\" alt=\"Open In Colab\"/></a>"
      ]
    },
    {
      "metadata": {
        "id": "YmCLbF2uk5Qm",
        "colab_type": "code",
        "outputId": "208f5c47-1280-40a0-e9d9-61095e49b74c",
        "colab": {
          "base_uri": "https://localhost:8080/",
          "height": 102
        }
      },
      "cell_type": "code",
      "source": [
        "print('''get\n",
        "a job\n",
        "now''')\n",
        "a=1;b=2;c=3 #semicolon should be used to assign multiple statements\n",
        "print(a,b,c)\n",
        "a=1+2j\n",
        "b=2+3j\n",
        "c=a*b\n",
        "print(c)\n"
      ],
      "execution_count": 0,
      "outputs": [
        {
          "output_type": "stream",
          "text": [
            "get\n",
            "a job\n",
            "now\n",
            "1 2 3\n",
            "(-4+7j)\n"
          ],
          "name": "stdout"
        }
      ]
    },
    {
      "metadata": {
        "id": "cKzDYA3oTUuv",
        "colab_type": "code",
        "outputId": "54daf64e-bfb4-4c10-a93d-85c70f1259a9",
        "colab": {
          "base_uri": "https://localhost:8080/",
          "height": 51
        }
      },
      "cell_type": "code",
      "source": [
        "def double(num):\n",
        "    \"\"\"Function to double the value\"\"\"\n",
        "    return 2*num\n",
        "f=double(895)\n",
        "print(f)\n",
        "print(double.__doc__)\n"
      ],
      "execution_count": 0,
      "outputs": [
        {
          "output_type": "stream",
          "text": [
            "1790\n",
            "Function to double the value\n"
          ],
          "name": "stdout"
        }
      ]
    },
    {
      "metadata": {
        "id": "vNR-Zu8FgmiV",
        "colab_type": "code",
        "outputId": "63b2cc60-3103-48cf-82c4-1442b440a45b",
        "colab": {
          "base_uri": "https://localhost:8080/",
          "height": 85
        }
      },
      "cell_type": "code",
      "source": [
        "x = (1 == True)\n",
        "y = (1 == False)\n",
        "a = True + 4\n",
        "b = False + 10\n",
        "\n",
        "print(\"x is\", x)\n",
        "print(\"y is\", y)\n",
        "print(\"a:\", a)\n",
        "print(\"b:\", b)"
      ],
      "execution_count": 0,
      "outputs": [
        {
          "output_type": "stream",
          "text": [
            "x is True\n",
            "y is False\n",
            "a: 5\n",
            "b: 10\n"
          ],
          "name": "stdout"
        }
      ]
    },
    {
      "metadata": {
        "id": "VYaNaTtdhR29",
        "colab_type": "code",
        "outputId": "4a85925a-734a-4b5a-d579-7181474762eb",
        "colab": {
          "base_uri": "https://localhost:8080/",
          "height": 85
        }
      },
      "cell_type": "code",
      "source": [
        "#There are four different literal collections List literals, Tuple literals, Dict literals, and Set literals.\n",
        "fruits = [\"apple\", \"mango\", \"orange\"] #list have square brackets\n",
        "numbers = (1, 2, 3) #tuple has round brackets\n",
        "alphabets = {'a':'apple', 'b':'ball', 'c':'cat'} #dictionary has curly brackets with key pair generation\n",
        "vowels = {'a', 'e', 'i' , 'o', 'u'} #set has curly brackets\n",
        "\n",
        "print(fruits)\n",
        "print(numbers)\n",
        "print(alphabets)\n",
        "print(vowels)"
      ],
      "execution_count": 0,
      "outputs": [
        {
          "output_type": "stream",
          "text": [
            "['apple', 'mango', 'orange']\n",
            "(1, 2, 3)\n",
            "{'a': 'apple', 'b': 'ball', 'c': 'cat'}\n",
            "{'e', 'a', 'o', 'i', 'u'}\n"
          ],
          "name": "stdout"
        }
      ]
    },
    {
      "metadata": {
        "colab_type": "code",
        "outputId": "a86dc801-9d3c-42ed-f636-98298997e3ee",
        "id": "559QY9n3sWxJ",
        "colab": {
          "base_uri": "https://localhost:8080/",
          "height": 34
        }
      },
      "cell_type": "code",
      "source": [
        "a=1\n",
        "for i in range(1,10):\n",
        "    j=1\n",
        "    while(j<=i) :\n",
        "        if(j<i):\n",
        "            print(a,sep=\"\\n\",end=\" \")\n",
        "            a += 1\n",
        "            j += 1\n",
        "        else:\n",
        "            print(a)\n",
        "            a += 1\n",
        "            j += 1\n",
        "        \n",
        "   \n",
        "    \n",
        "    "
      ],
      "execution_count": 0,
      "outputs": [
        {
          "output_type": "stream",
          "text": [
            "2 4 5 7 8 9 11 12 13 14 16 17 18 19 20 22 23 24 25 26 27 29 30 31 32 33 34 35 37 38 39 40 41 42 43 44 "
          ],
          "name": "stdout"
        }
      ]
    },
    {
      "metadata": {
        "id": "184Yd7R081W4",
        "colab_type": "code",
        "outputId": "088b365e-c7df-4d47-a98c-ebfcc5102b8a",
        "colab": {
          "base_uri": "https://localhost:8080/",
          "height": 238
        }
      },
      "cell_type": "code",
      "source": [
        "a=1\n",
        "for i in range(1,6):\n",
        "    j=5\n",
        "    while(j>=i) :\n",
        "        if(j>i):\n",
        "            print(a,sep=\"\\n\",end=\"\\t\")\n",
        "            a += 1\n",
        "            j -= 1\n",
        "        else:\n",
        "            print(a)\n",
        "            a += 1\n",
        "            j -= 1\n",
        "            \n",
        "num=5      \n",
        "for i in range(1,num):\n",
        "    for j in range(1,num):\n",
        "      print(\"_\",sep=\"\\n\",end=\" \")\n",
        "    print(i,sep=\"\\n\",end=\" \")\n",
        "    for k in range(1,num):\n",
        "      print(\"_\",sep=\"\\n\",end=\" \")\n",
        "    print('\\n')\n",
        "    num -= 1\n",
        "    \n",
        "  "
      ],
      "execution_count": 0,
      "outputs": [
        {
          "output_type": "stream",
          "text": [
            "1\t2\t3\t4\t5\n",
            "6\t7\t8\t9\n",
            "10\t11\t12\n",
            "13\t14\n",
            "15\n",
            "_ _ _ _ 1 _ _ _ _ \n",
            "\n",
            "_ _ _ 2 _ _ _ \n",
            "\n",
            "_ _ 3 _ _ \n",
            "\n",
            "_ 4 _ \n",
            "\n"
          ],
          "name": "stdout"
        }
      ]
    },
    {
      "metadata": {
        "id": "N2ZhnGPNzbmu",
        "colab_type": "code",
        "colab": {}
      },
      "cell_type": "code",
      "source": [
        ""
      ],
      "execution_count": 0,
      "outputs": []
    },
    {
      "metadata": {
        "id": "DRcbXn9Tk93a",
        "colab_type": "code",
        "outputId": "ef5999fb-942e-47b5-db62-27341a793add",
        "colab": {
          "base_uri": "https://localhost:8080/",
          "height": 85
        }
      },
      "cell_type": "code",
      "source": [
        "a=int(input())\n",
        "\n",
        "for i in range(1,a+1):\n",
        "    if (i>1):\n",
        "      print(a,sep=\"\\n\",end=\" \")\n",
        "      pass\n",
        "    if (i==2 or i==3 or i==5):\n",
        "      print('number is prime')\n",
        "    elif (i%2==0) or (i%3==0) or (i%5==0):\n",
        "      print('number is multiple of two')\n",
        "    else :\n",
        "      print('number is a prime')"
      ],
      "execution_count": 0,
      "outputs": [
        {
          "output_type": "stream",
          "text": [
            "3\n",
            "number is a prime\n",
            "3 number is prime\n",
            "3 number is prime\n"
          ],
          "name": "stdout"
        }
      ]
    },
    {
      "metadata": {
        "id": "ARPIHPzwIKGC",
        "colab_type": "code",
        "outputId": "f8bbaa8b-5399-44a0-c499-388d793fb847",
        "colab": {
          "base_uri": "https://localhost:8080/",
          "height": 85
        }
      },
      "cell_type": "code",
      "source": [
        "num = int(input())\n",
        "\n",
        "# take input from the user\n",
        "# num = int(input(\"Enter a number: \"))\n",
        "\n",
        "# prime numbers are greater than 1\n",
        "if (num > 1):\n",
        "   # check for factors\n",
        "   for i in range(2,num):\n",
        "       if (num % i) == 0:\n",
        "           print(num,\"is not a prime number\")\n",
        "           print(i,\"times\",num//i,\"is\",num)\n",
        "           break\n",
        "       else:\n",
        "           print(num,\"is a prime number\")\n",
        "       \n",
        "# if input number is less than\n",
        "# or equal to 1, it is not prime\n",
        "else:\n",
        "   print(num,\"is not a prime number\")"
      ],
      "execution_count": 0,
      "outputs": [
        {
          "output_type": "stream",
          "text": [
            "99\n",
            "99 is a prime number\n",
            "99 is not a prime number\n",
            "3 times 33 is 99\n"
          ],
          "name": "stdout"
        }
      ]
    }
  ]
}