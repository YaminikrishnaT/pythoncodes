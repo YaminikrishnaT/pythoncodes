{
  "nbformat": 4,
  "nbformat_minor": 0,
  "metadata": {
    "colab": {
      "name": "set_python",
      "version": "0.3.2",
      "provenance": [],
      "collapsed_sections": [],
      "include_colab_link": true
    },
    "kernelspec": {
      "name": "python3",
      "display_name": "Python 3"
    }
  },
  "cells": [
    {
      "cell_type": "markdown",
      "metadata": {
        "id": "view-in-github",
        "colab_type": "text"
      },
      "source": [
        "<a href=\"https://colab.research.google.com/github/YaminikrishnaT/pythoncodes/blob/master/set_python.ipynb\" target=\"_parent\"><img src=\"https://colab.research.google.com/assets/colab-badge.svg\" alt=\"Open In Colab\"/></a>"
      ]
    },
    {
      "metadata": {
        "id": "pScB3U5FHN5X",
        "colab_type": "code",
        "outputId": "77d9cb4a-7765-4428-8ddd-ade476e80add",
        "colab": {
          "base_uri": "https://localhost:8080/",
          "height": 306
        }
      },
      "cell_type": "code",
      "source": [
        "#set\n",
        "s={1,2,3,4,5,6,7,3,4,6}#unordered,does not allow duplicates\n",
        "#cannot call empty curly brackets for sets,should declare atleast a value\n",
        "#an empty curly braces indicates dictionary\n",
        "print(s)\n",
        "s={}\n",
        "print('empty braces',type(s))\n",
        "#dir(s)\n",
        "s1={1,2,3,4,5,12}\n",
        "s2={2,3,6,7}\n",
        "#add(to add a single value),update(to add multiple elements)\n",
        "s2.add(5)\n",
        "print(s2)\n",
        "s2.update({1,2,3,4,8,9})\n",
        "print(s2)\n",
        "print(s1.union(s2),s1|s2)\n",
        "#sets cannot have nested sets\n",
        "#difference as in  sets venn diagram concepts\n",
        "print(\"s1-s2\",s1.difference(s2),s1-s2)\n",
        "print(\"s2-s1\",s2.difference(s1),s2-s1)\n",
        "print(\"s1 & s2\",s1.intersection(s2),s1&s2)\n",
        "print(s2.intersection(s1))\n",
        "s1.intersection_update(s2)\n",
        "print(s1,s2)\n",
        "s1.difference_update(s2)\n",
        "print(s1,s2)\n",
        "s1.update({1,2,3,4,5,12,14})\n",
        "print(s1,s2)\n",
        "print(\"s1 ^ s2\",s1.symmetric_difference(s2),s1 ^s2)\n",
        "s1.symmetric_difference_update(s2)\n",
        "print(s1,s2)\n",
        "s1.pop()#removes first element in the set\n",
        "print(s1)\n",
        "s2.remove(5)#removes the value \"5\" in the set\n",
        "print(s2)\n",
        "s2.discard(2)#removes the value in the 2nd position of the set\n",
        "print(s2)"
      ],
      "execution_count": 0,
      "outputs": [
        {
          "output_type": "stream",
          "text": [
            "{1, 2, 3, 4, 5, 6, 7}\n",
            "empty braces <class 'dict'>\n",
            "{2, 3, 5, 6, 7}\n",
            "{1, 2, 3, 4, 5, 6, 7, 8, 9}\n",
            "{1, 2, 3, 4, 5, 6, 7, 8, 9, 12} {1, 2, 3, 4, 5, 6, 7, 8, 9, 12}\n",
            "s1-s2 {12} {12}\n",
            "s2-s1 {8, 9, 6, 7} {8, 9, 6, 7}\n",
            "s1 & s2 {1, 2, 3, 4, 5} {1, 2, 3, 4, 5}\n",
            "{1, 2, 3, 4, 5}\n",
            "{1, 2, 3, 4, 5} {1, 2, 3, 4, 5, 6, 7, 8, 9}\n",
            "set() {1, 2, 3, 4, 5, 6, 7, 8, 9}\n",
            "{1, 2, 3, 4, 5, 12, 14} {1, 2, 3, 4, 5, 6, 7, 8, 9}\n",
            "s1 ^ s2 {6, 7, 8, 9, 12, 14} {6, 7, 8, 9, 12, 14}\n",
            "{6, 7, 8, 9, 12, 14} {1, 2, 3, 4, 5, 6, 7, 8, 9}\n",
            "{7, 8, 9, 12, 14}\n",
            "{1, 2, 3, 4, 6, 7, 8, 9}\n",
            "{1, 3, 4, 6, 7, 8, 9}\n"
          ],
          "name": "stdout"
        }
      ]
    },
    {
      "metadata": {
        "id": "aRXzu2Uifu12",
        "colab_type": "code",
        "outputId": "5d8d9021-944f-43b7-ab5e-c246a2d5a4df",
        "colab": {
          "base_uri": "https://localhost:8080/",
          "height": 34
        }
      },
      "cell_type": "code",
      "source": [
        "s1={\"a\",\"b\",\"c\",\"d\",\"e\"}\n",
        "print(\"a\" in s1,\"f\" not in s1)"
      ],
      "execution_count": 0,
      "outputs": [
        {
          "output_type": "stream",
          "text": [
            "True True\n"
          ],
          "name": "stdout"
        }
      ]
    },
    {
      "metadata": {
        "id": "BblVNt6ugL0W",
        "colab_type": "code",
        "outputId": "26e4ac22-c198-4109-8d03-f22fd52fe19b",
        "colab": {
          "base_uri": "https://localhost:8080/",
          "height": 119
        }
      },
      "cell_type": "code",
      "source": [
        "#iteration with a set\n",
        "for fruit in {\"mango\",\"grape\",\"watermelon\"}:\n",
        "  print(fruit,sep=\"\\n\",end=\" \")\n",
        "  print(len(fruit))\n",
        "  print(max(fruit),min(fruit))"
      ],
      "execution_count": 0,
      "outputs": [
        {
          "output_type": "stream",
          "text": [
            "mango 5\n",
            "o a\n",
            "grape 5\n",
            "r a\n",
            "watermelon 10\n",
            "w a\n"
          ],
          "name": "stdout"
        }
      ]
    },
    {
      "metadata": {
        "id": "NjjDX87XjaOB",
        "colab_type": "code",
        "outputId": "42d8dd4d-9458-4dc2-bc6a-dacb99d09830",
        "colab": {
          "base_uri": "https://localhost:8080/",
          "height": 71
        }
      },
      "cell_type": "code",
      "source": [
        "#fibonacci sequence\n",
        "a=1;b=0;num=int(input())\n",
        "for i in range(1,num+1):\n",
        "    c=a+b\n",
        "    print(c,sep=\"\\n\",end=\" \")\n",
        "    a=b\n",
        "    b=c\n",
        "    \n",
        "    \n",
        "    \n",
        "        \n"
      ],
      "execution_count": 0,
      "outputs": [
        {
          "output_type": "stream",
          "text": [
            "52\n",
            "1 1 2 3 5 8 13 21 34 55 89 144 233 377 610 987 1597 2584 4181 6765 10946 17711 28657 46368 75025 121393 196418 317811 514229 832040 1346269 2178309 3524578 5702887 9227465 14930352 24157817 39088169 63245986 102334155 165580141 267914296 433494437 701408733 1134903170 1836311903 2971215073 4807526976 7778742049 12586269025 20365011074 32951280099 "
          ],
          "name": "stdout"
        }
      ]
    },
    {
      "metadata": {
        "id": "cRJfkcHfIW1c",
        "colab_type": "code",
        "outputId": "c7f91257-b4f2-41bc-c957-2ef04fa815a6",
        "colab": {
          "base_uri": "https://localhost:8080/",
          "height": 333
        }
      },
      "cell_type": "code",
      "source": [
        "#password verification using sets\n",
        "s_prev_pass=frozenset([\"Feb10\",\"Mar10\",\"APr10\"])\n",
        "print(s_prev_pass)\n",
        "count=0;num_pwd=0\n",
        "while(count==0):\n",
        "    print(\"please enter new password\")\n",
        "    s_curr_pass=input()\n",
        "    if(s_curr_pass in s_prev_pass):\n",
        "        print(\"Password invalid.please enter new password\")\n",
        "        num_pwd += 1\n",
        "        print(\"Incorrect attempt:\",num_pwd)\n",
        "        if(num_pwd>2):\n",
        "            print(\"password change limit exceeded\")\n",
        "            count += 1\n",
        "    else:\n",
        "        print(\"password changed successfully\")\n",
        "        count += 1\n",
        "        curr_pwd_upd=set(s_prev_pass)\n",
        "        print(curr_pwd_upd)\n",
        "        curr_pwd_upd.pop()\n",
        "        print(curr_pwd_upd)\n",
        "        curr_pwd_upd.add(s_curr_pass)\n",
        "        print(curr_pwd_upd)\n",
        "        s_prev_pass=frozenset(curr_pwd_upd)\n",
        "        print(s_prev_pass)\n",
        "        s_prev_pass.add(\"a\")\n"
      ],
      "execution_count": 0,
      "outputs": [
        {
          "output_type": "stream",
          "text": [
            "frozenset({'APr10', 'Feb10', 'Mar10'})\n",
            "please enter new password\n",
            "ndjfh93248\n",
            "password changed successfully\n",
            "{'APr10', 'Feb10', 'Mar10'}\n",
            "{'Feb10', 'Mar10'}\n",
            "{'Feb10', 'Mar10', 'ndjfh93248'}\n",
            "frozenset({'Feb10', 'Mar10', 'ndjfh93248'})\n"
          ],
          "name": "stdout"
        },
        {
          "output_type": "error",
          "ename": "AttributeError",
          "evalue": "ignored",
          "traceback": [
            "\u001b[0;31m---------------------------------------------------------------------------\u001b[0m",
            "\u001b[0;31mAttributeError\u001b[0m                            Traceback (most recent call last)",
            "\u001b[0;32m<ipython-input-33-09d3dc3846cb>\u001b[0m in \u001b[0;36m<module>\u001b[0;34m()\u001b[0m\n\u001b[1;32m     23\u001b[0m         \u001b[0ms_prev_pass\u001b[0m\u001b[0;34m=\u001b[0m\u001b[0mfrozenset\u001b[0m\u001b[0;34m(\u001b[0m\u001b[0mcurr_pwd_upd\u001b[0m\u001b[0;34m)\u001b[0m\u001b[0;34m\u001b[0m\u001b[0;34m\u001b[0m\u001b[0m\n\u001b[1;32m     24\u001b[0m         \u001b[0mprint\u001b[0m\u001b[0;34m(\u001b[0m\u001b[0ms_prev_pass\u001b[0m\u001b[0;34m)\u001b[0m\u001b[0;34m\u001b[0m\u001b[0;34m\u001b[0m\u001b[0m\n\u001b[0;32m---> 25\u001b[0;31m         \u001b[0ms_prev_pass\u001b[0m\u001b[0;34m.\u001b[0m\u001b[0madd\u001b[0m\u001b[0;34m(\u001b[0m\u001b[0;34m\"a\"\u001b[0m\u001b[0;34m)\u001b[0m\u001b[0;34m\u001b[0m\u001b[0;34m\u001b[0m\u001b[0m\n\u001b[0m",
            "\u001b[0;31mAttributeError\u001b[0m: 'frozenset' object has no attribute 'add'"
          ]
        }
      ]
    }
  ]
}