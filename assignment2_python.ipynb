{
  "nbformat": 4,
  "nbformat_minor": 0,
  "metadata": {
    "colab": {
      "name": "assignment2_python",
      "version": "0.3.2",
      "provenance": [],
      "collapsed_sections": [],
      "include_colab_link": true
    },
    "kernelspec": {
      "name": "python3",
      "display_name": "Python 3"
    }
  },
  "cells": [
    {
      "cell_type": "markdown",
      "metadata": {
        "id": "view-in-github",
        "colab_type": "text"
      },
      "source": [
        "<a href=\"https://colab.research.google.com/github/YaminikrishnaT/pythoncodes/blob/master/assignment2_python.ipynb\" target=\"_parent\"><img src=\"https://colab.research.google.com/assets/colab-badge.svg\" alt=\"Open In Colab\"/></a>"
      ]
    },
    {
      "metadata": {
        "id": "c6qcOWuy_2Pk",
        "colab_type": "code",
        "outputId": "5dbfff2f-fa9c-4b50-950c-0b5fd7c9fb47",
        "colab": {
          "base_uri": "https://localhost:8080/",
          "height": 102
        }
      },
      "cell_type": "code",
      "source": [
        "#To print all the divisors of a integer\n",
        "import math\n",
        "from math import factorial\n",
        "a=int(input(\"Please enter a number \"));\n",
        "l=[];j=0\n",
        "for i in range(1,a+1):\n",
        "       if(a%i==0):\n",
        "          #print(i,sep=\"\\n\",end=\" \")\n",
        "           l.append(i)\n",
        "\n",
        "print(\"The  divisors of a given integer are : \",sep=\"\\n\",end=\" \")\n",
        "for x in l:\n",
        "    print(x,sep=\"\\n\",end=\",\")\n",
        "print()\n",
        " \n",
        "#perfect number\n",
        "for x in l:\n",
        "  if(a==x):\n",
        "      break\n",
        "  else:\n",
        "      j=j+x\n",
        "print(j)\n",
        "if(a==j):\n",
        "   print(a,' is a perfect number')\n",
        "else:\n",
        "   print(a, 'is not a perfect number')\n",
        "\n",
        "\n",
        "\n"
      ],
      "execution_count": 0,
      "outputs": [
        {
          "output_type": "stream",
          "text": [
            "Please enter a number 12\n",
            "The  divisors of a given integer are :  1,2,3,4,6,12,\n",
            "16\n",
            "12 is not a perfect number\n",
            "6\n"
          ],
          "name": "stdout"
        }
      ]
    },
    {
      "metadata": {
        "id": "WyPAAP7MBrtq",
        "colab_type": "code",
        "outputId": "3112b633-37bf-4f8e-e528-42f7b1856889",
        "colab": {
          "base_uri": "https://localhost:8080/",
          "height": 289
        }
      },
      "cell_type": "code",
      "source": [
        "#Python Program to Print Sum of Negative Numbers, Positive Even Numbers and Positive Odd numbers in a List\n",
        "i_count=int(input('Please provide the list range '))\n",
        "print(i_count)\n",
        "l=[];n=0;o=0;e=0;l_e=[];l_o=[]\n",
        "for i in range(1,i_count+1):\n",
        "      x=int(input(\"enter a number\"))\n",
        "      l.append(x)\n",
        "print(l)\n",
        "\n",
        "for x in l:\n",
        "   if (x<0):\n",
        "      n=n+x\n",
        "   elif (x%2==0):\n",
        "      e=e+x\n",
        "      l_e.append(x)\n",
        "   else:\n",
        "      o=o+x\n",
        "      l_o.append(x)\n",
        "\n",
        "#Python Program to Print Largest Even and Largest Odd Number in a List\n",
        "print(n,e,o)\n",
        "print(\"largest even number is \",max(l_e))\n",
        "print(\"largest odd number  is \",max(l_o))\n",
        "\n",
        "      "
      ],
      "execution_count": 0,
      "outputs": [
        {
          "output_type": "stream",
          "text": [
            "Please provide the list range 10\n",
            "10\n",
            "enter a number-1\n",
            "enter a number-2\n",
            "enter a number3\n",
            "enter a number1\n",
            "enter a number2\n",
            "enter a number5\n",
            "enter a number6\n",
            "enter a number12\n",
            "enter a number13\n",
            "enter a number14\n",
            "[-1, -2, 3, 1, 2, 5, 6, 12, 13, 14]\n",
            "-3 34 22\n",
            "largest even number is  14\n",
            "largest odd number  is  13\n"
          ],
          "name": "stdout"
        }
      ]
    },
    {
      "metadata": {
        "id": "oypPeII6H8ew",
        "colab_type": "code",
        "outputId": "8fe3de2a-90f8-4a31-c728-dccf26c1cf1b",
        "colab": {
          "base_uri": "https://localhost:8080/",
          "height": 102
        }
      },
      "cell_type": "code",
      "source": [
        "#Python Program to Check if a Number is an Armstrong Number,strong number\n",
        "from math import factorial\n",
        "a=input(\"Please enter a number \")\n",
        "a_len=len(a)\n",
        "print(\"The number given is : \",a)\n",
        "b=int(a)\n",
        "i_val=b\n",
        "l=[]\n",
        "for i in range((a_len-1),-1,-1):\n",
        "    v_com=(10**i)#print(v_com,i)\n",
        "    a_i=i_val%v_com;a_i2=i_val//v_com\n",
        "    i_val=a_i\n",
        "    l.append(a_i2)\n",
        "j=0 ;z=0   \n",
        "for x in l:\n",
        "    j=j+x**3\n",
        "    z=factorial(x)+z\n",
        "    \n",
        "print(j,z)\n",
        "#Python Program to Check if a Number is an Armstrong Number\n",
        "if(b==j):\n",
        "    print(\"armstrong number\")\n",
        "else:\n",
        "    print(\"not an armstrong number\")\n",
        "\n",
        "#Python Program to Check if a Number is a Strong Number \n",
        "\n",
        "if(z==b):\n",
        "   print('strong number')\n",
        "else:\n",
        "   print('not a strong number')\n"
      ],
      "execution_count": 0,
      "outputs": [
        {
          "output_type": "stream",
          "text": [
            "Please enter a number 145\n",
            "The number given is :  145\n",
            "190 145\n",
            "not an armstrong number\n",
            "strong number\n"
          ],
          "name": "stdout"
        }
      ]
    },
    {
      "metadata": {
        "id": "yRNvdvAkBHp4",
        "colab_type": "code",
        "outputId": "3c1add63-0258-4c91-d207-2b07d59804e9",
        "colab": {
          "base_uri": "https://localhost:8080/",
          "height": 386
        }
      },
      "cell_type": "code",
      "source": [
        "#TO print table of a number\n",
        "a=int(input(\"Please enter a number \"));\n",
        "for i in range(1,21):\n",
        "    print(a,\"*\",i,\"=\",a*i)"
      ],
      "execution_count": 0,
      "outputs": [
        {
          "output_type": "stream",
          "text": [
            "Please enter a number 12\n",
            "12 * 1 = 12\n",
            "12 * 2 = 24\n",
            "12 * 3 = 36\n",
            "12 * 4 = 48\n",
            "12 * 5 = 60\n",
            "12 * 6 = 72\n",
            "12 * 7 = 84\n",
            "12 * 8 = 96\n",
            "12 * 9 = 108\n",
            "12 * 10 = 120\n",
            "12 * 11 = 132\n",
            "12 * 12 = 144\n",
            "12 * 13 = 156\n",
            "12 * 14 = 168\n",
            "12 * 15 = 180\n",
            "12 * 16 = 192\n",
            "12 * 17 = 204\n",
            "12 * 18 = 216\n",
            "12 * 19 = 228\n",
            "12 * 20 = 240\n"
          ],
          "name": "stdout"
        }
      ]
    },
    {
      "metadata": {
        "id": "OWX-lFVaPQKd",
        "colab_type": "code",
        "outputId": "9a5bf798-519d-428f-9c7a-af72fd6006ba",
        "colab": {
          "base_uri": "https://localhost:8080/",
          "height": 68
        }
      },
      "cell_type": "code",
      "source": [
        "#Python program to print amicable numbers\n",
        "import math\n",
        "from math import factorial\n",
        "a=int(input(\"Please enter a number \"));b=int(input(\"Please enter a number \"))\n",
        "l_a=[];j=0;l_b=[];sum=0;sum1=0\n",
        "for i in range(1,a+1):\n",
        "    if(a%i==0):\n",
        "        l_a.append(i)\n",
        "for i in range(1,b+1):\n",
        "    if(b%i==0):\n",
        "        l_b.append(i)\n",
        "\n",
        "print(\"The  divisors of a given integer are : \",sep=\"\\n\",end=\" \")\n",
        "for x in l_a:\n",
        "    print(x,sep=\"\\n\",end=\",\")\n",
        "    if(x==a):\n",
        "        break\n",
        "    else:\n",
        "        sum=sum+x\n",
        "\n",
        "for y in l_b:\n",
        "   print(y,sep=\"\\n\",end=\",\")\n",
        "   if(y==b):\n",
        "        break\n",
        "   else:\n",
        "        sum1=sum1+y\n",
        "        \n",
        "if(a==sum1 and b==sum):\n",
        "      print('amicable numbers')\n",
        "\n"
      ],
      "execution_count": 0,
      "outputs": [
        {
          "output_type": "stream",
          "text": [
            "Please enter a number 220\n",
            "Please enter a number 284\n",
            "The  divisors of a given integer are :  1,2,4,5,10,11,20,22,44,55,110,220,1,2,4,71,142,284,amicable numbers\n"
          ],
          "name": "stdout"
        }
      ]
    },
    {
      "metadata": {
        "id": "jvmDfvhXVoxc",
        "colab_type": "code",
        "outputId": "52434b0b-bdb2-47a0-c343-b74e6e448875",
        "colab": {
          "base_uri": "https://localhost:8080/",
          "height": 68
        }
      },
      "cell_type": "code",
      "source": [
        "#Python Program to Find the GCD of Two Numbers\n",
        "from math import gcd\n",
        "a=int(input(\"Please enter a number \"));b=int(input(\"Please enter a number \"))\n",
        "z=gcd(a,b)\n",
        "print(z)\n"
      ],
      "execution_count": 0,
      "outputs": [
        {
          "output_type": "stream",
          "text": [
            "Please enter a number 2\n",
            "Please enter a number 3\n",
            "1\n"
          ],
          "name": "stdout"
        }
      ]
    },
    {
      "metadata": {
        "id": "8x9bLvkEk-MI",
        "colab_type": "code",
        "outputId": "bac46bf7-a492-4048-b3fe-9ba0ff9cd6dd",
        "colab": {
          "base_uri": "https://localhost:8080/",
          "height": 85
        }
      },
      "cell_type": "code",
      "source": [
        "#Python Program to Find the Gravitational Force Acting Between Two ObjectS\n",
        "a=float(input(\"Please enter mass of first object \"));b=float(input(\"Please enter mass of second object \"))\n",
        "r=float(input(\"Please enter the distance between the objects\"))\n",
        "g=6.67*(10**-11)\n",
        "G=g*a*b/r**2\n",
        "print(G)\n",
        "\n"
      ],
      "execution_count": 0,
      "outputs": [
        {
          "output_type": "stream",
          "text": [
            "Please enter mass of first object 1000000\n",
            "Please enter mass of second object 500000\n",
            "Please enter the distance between the objects20\n",
            "0.08337499999999999\n"
          ],
          "name": "stdout"
        }
      ]
    },
    {
      "metadata": {
        "id": "NybPeXNjeb02",
        "colab_type": "code",
        "outputId": "d8f2febc-db21-4619-8dd3-f7eff290c125",
        "colab": {
          "base_uri": "https://localhost:8080/",
          "height": 408
        }
      },
      "cell_type": "code",
      "source": [
        "#Python Program to Determine all Pythagorean Triplets in the Range#copied\n",
        "limit=int(input(\"Enter upper limit:\"))\n",
        "c=0\n",
        "m=2\n",
        "while(c<limit):\n",
        "    for n in range(1,m+1):\n",
        "        a=m*m-n*n\n",
        "        b=2*m*n\n",
        "        c=m*m+n*n\n",
        "        if(c>limit):\n",
        "            break\n",
        "        if(a==0 or b==0 or c==0):\n",
        "            break\n",
        "        print(a,b,c)\n",
        "    m=m+1\n",
        "\n"
      ],
      "execution_count": 0,
      "outputs": [
        {
          "output_type": "stream",
          "text": [
            "Enter upper limit:35\n",
            "3 4 5\n",
            "3 4 5\n",
            "0 8 8\n",
            "8 6 10\n",
            "8 6 10\n",
            "5 12 13\n",
            "5 12 13\n",
            "0 18 18\n",
            "15 8 17\n",
            "15 8 17\n",
            "12 16 20\n",
            "12 16 20\n",
            "7 24 25\n",
            "7 24 25\n",
            "0 32 32\n",
            "24 10 26\n",
            "24 10 26\n",
            "21 20 29\n",
            "21 20 29\n",
            "16 30 34\n",
            "16 30 34\n",
            "9 40 41\n"
          ],
          "name": "stdout"
        }
      ]
    },
    {
      "metadata": {
        "id": "7V2_wFIXPQHI",
        "colab_type": "code",
        "outputId": "5c5ff3e6-9951-481e-b901-96139733eeea",
        "colab": {
          "base_uri": "https://localhost:8080/",
          "height": 374
        }
      },
      "cell_type": "code",
      "source": [
        "#python program to print numbers in a range without using a loop\n",
        "def print_number(a,b):\n",
        "    print(a)\n",
        "    if(a==b):\n",
        "        print(\"done\")\n",
        "    else:\n",
        "        a += 1\n",
        "        print_number(a,b)\n",
        "        \n",
        "        \n",
        "print_number(1,20)"
      ],
      "execution_count": 0,
      "outputs": [
        {
          "output_type": "stream",
          "text": [
            "1\n",
            "2\n",
            "3\n",
            "4\n",
            "5\n",
            "6\n",
            "7\n",
            "8\n",
            "9\n",
            "10\n",
            "11\n",
            "12\n",
            "13\n",
            "14\n",
            "15\n",
            "16\n",
            "17\n",
            "18\n",
            "19\n",
            "20\n",
            "done\n"
          ],
          "name": "stdout"
        }
      ]
    },
    {
      "metadata": {
        "id": "RaPI8nzPymTq",
        "colab_type": "code",
        "outputId": "2a5f6c83-ef61-4207-fe7c-0822e31f9b9a",
        "colab": {
          "base_uri": "https://localhost:8080/",
          "height": 92
        }
      },
      "cell_type": "code",
      "source": [
        "#python program to find simple interest\n",
        "#SI=PTR/100\n",
        "a=int(input(\"Please enter principal amount =  \"));b=int(input(\"Please enter the term (in years)= \"));\n",
        "c=int(input(\"Please enter the rate of interest (percent per annum)= \"))\n",
        "z=(a*b*c)/100\n",
        "print(z)\n"
      ],
      "execution_count": 0,
      "outputs": [
        {
          "output_type": "stream",
          "text": [
            "Please enter principal amount =  15000\n",
            "Please enter the term = 9\n",
            "Please enter the rate of interest = 10\n",
            "13500.0\n"
          ],
          "name": "stdout"
        }
      ]
    },
    {
      "metadata": {
        "id": "XKyo8LTI2273",
        "colab_type": "code",
        "outputId": "46f0cbe7-127e-409b-ce4b-07e9d6518535",
        "colab": {
          "base_uri": "https://localhost:8080/",
          "height": 974
        }
      },
      "cell_type": "code",
      "source": [
        "#Collatz conjecture\n",
        "a=int(input(\"Please enter a number \"))\n",
        "\n",
        "\n",
        "def collatz_conjecture(a):\n",
        "    if(a%2==0):\n",
        "        a = int(a/2)\n",
        "        #return(a)\n",
        "        print(a)\n",
        "        collatz_conjecture(a)\n",
        "    else:\n",
        "        a= 3*a +1\n",
        "        print(a)\n",
        "        #return(a)\n",
        "        collatz_conjecture(a)\n",
        "        \n",
        "\n",
        "        \n",
        "collatz_conjecture(a)\n",
        "    "
      ],
      "execution_count": 0,
      "outputs": [
        {
          "output_type": "error",
          "ename": "KeyboardInterrupt",
          "evalue": "ignored",
          "traceback": [
            "\u001b[0;31m---------------------------------------------------------------------------\u001b[0m",
            "\u001b[0;31mKeyboardInterrupt\u001b[0m                         Traceback (most recent call last)",
            "\u001b[0;32m/usr/local/lib/python3.6/dist-packages/ipykernel/kernelbase.py\u001b[0m in \u001b[0;36m_input_request\u001b[0;34m(self, prompt, ident, parent, password)\u001b[0m\n\u001b[1;32m    729\u001b[0m             \u001b[0;32mtry\u001b[0m\u001b[0;34m:\u001b[0m\u001b[0;34m\u001b[0m\u001b[0;34m\u001b[0m\u001b[0m\n\u001b[0;32m--> 730\u001b[0;31m                 \u001b[0mident\u001b[0m\u001b[0;34m,\u001b[0m \u001b[0mreply\u001b[0m \u001b[0;34m=\u001b[0m \u001b[0mself\u001b[0m\u001b[0;34m.\u001b[0m\u001b[0msession\u001b[0m\u001b[0;34m.\u001b[0m\u001b[0mrecv\u001b[0m\u001b[0;34m(\u001b[0m\u001b[0mself\u001b[0m\u001b[0;34m.\u001b[0m\u001b[0mstdin_socket\u001b[0m\u001b[0;34m,\u001b[0m \u001b[0;36m0\u001b[0m\u001b[0;34m)\u001b[0m\u001b[0;34m\u001b[0m\u001b[0;34m\u001b[0m\u001b[0m\n\u001b[0m\u001b[1;32m    731\u001b[0m             \u001b[0;32mexcept\u001b[0m \u001b[0mException\u001b[0m\u001b[0;34m:\u001b[0m\u001b[0;34m\u001b[0m\u001b[0;34m\u001b[0m\u001b[0m\n",
            "\u001b[0;32m/usr/local/lib/python3.6/dist-packages/jupyter_client/session.py\u001b[0m in \u001b[0;36mrecv\u001b[0;34m(self, socket, mode, content, copy)\u001b[0m\n\u001b[1;32m    802\u001b[0m         \u001b[0;32mtry\u001b[0m\u001b[0;34m:\u001b[0m\u001b[0;34m\u001b[0m\u001b[0;34m\u001b[0m\u001b[0m\n\u001b[0;32m--> 803\u001b[0;31m             \u001b[0mmsg_list\u001b[0m \u001b[0;34m=\u001b[0m \u001b[0msocket\u001b[0m\u001b[0;34m.\u001b[0m\u001b[0mrecv_multipart\u001b[0m\u001b[0;34m(\u001b[0m\u001b[0mmode\u001b[0m\u001b[0;34m,\u001b[0m \u001b[0mcopy\u001b[0m\u001b[0;34m=\u001b[0m\u001b[0mcopy\u001b[0m\u001b[0;34m)\u001b[0m\u001b[0;34m\u001b[0m\u001b[0;34m\u001b[0m\u001b[0m\n\u001b[0m\u001b[1;32m    804\u001b[0m         \u001b[0;32mexcept\u001b[0m \u001b[0mzmq\u001b[0m\u001b[0;34m.\u001b[0m\u001b[0mZMQError\u001b[0m \u001b[0;32mas\u001b[0m \u001b[0me\u001b[0m\u001b[0;34m:\u001b[0m\u001b[0;34m\u001b[0m\u001b[0;34m\u001b[0m\u001b[0m\n",
            "\u001b[0;32m/usr/local/lib/python3.6/dist-packages/zmq/sugar/socket.py\u001b[0m in \u001b[0;36mrecv_multipart\u001b[0;34m(self, flags, copy, track)\u001b[0m\n\u001b[1;32m    465\u001b[0m         \"\"\"\n\u001b[0;32m--> 466\u001b[0;31m         \u001b[0mparts\u001b[0m \u001b[0;34m=\u001b[0m \u001b[0;34m[\u001b[0m\u001b[0mself\u001b[0m\u001b[0;34m.\u001b[0m\u001b[0mrecv\u001b[0m\u001b[0;34m(\u001b[0m\u001b[0mflags\u001b[0m\u001b[0;34m,\u001b[0m \u001b[0mcopy\u001b[0m\u001b[0;34m=\u001b[0m\u001b[0mcopy\u001b[0m\u001b[0;34m,\u001b[0m \u001b[0mtrack\u001b[0m\u001b[0;34m=\u001b[0m\u001b[0mtrack\u001b[0m\u001b[0;34m)\u001b[0m\u001b[0;34m]\u001b[0m\u001b[0;34m\u001b[0m\u001b[0;34m\u001b[0m\u001b[0m\n\u001b[0m\u001b[1;32m    467\u001b[0m         \u001b[0;31m# have first part already, only loop while more to receive\u001b[0m\u001b[0;34m\u001b[0m\u001b[0;34m\u001b[0m\u001b[0;34m\u001b[0m\u001b[0m\n",
            "\u001b[0;32mzmq/backend/cython/socket.pyx\u001b[0m in \u001b[0;36mzmq.backend.cython.socket.Socket.recv\u001b[0;34m()\u001b[0m\n",
            "\u001b[0;32mzmq/backend/cython/socket.pyx\u001b[0m in \u001b[0;36mzmq.backend.cython.socket.Socket.recv\u001b[0;34m()\u001b[0m\n",
            "\u001b[0;32mzmq/backend/cython/socket.pyx\u001b[0m in \u001b[0;36mzmq.backend.cython.socket._recv_copy\u001b[0;34m()\u001b[0m\n",
            "\u001b[0;32m/usr/local/lib/python3.6/dist-packages/zmq/backend/cython/checkrc.pxd\u001b[0m in \u001b[0;36mzmq.backend.cython.checkrc._check_rc\u001b[0;34m()\u001b[0m\n",
            "\u001b[0;31mKeyboardInterrupt\u001b[0m: ",
            "\nDuring handling of the above exception, another exception occurred:\n",
            "\u001b[0;31mKeyboardInterrupt\u001b[0m                         Traceback (most recent call last)",
            "\u001b[0;32m<ipython-input-1-9b29da702111>\u001b[0m in \u001b[0;36m<module>\u001b[0;34m()\u001b[0m\n\u001b[0;32m----> 1\u001b[0;31m \u001b[0ma\u001b[0m\u001b[0;34m=\u001b[0m\u001b[0mint\u001b[0m\u001b[0;34m(\u001b[0m\u001b[0minput\u001b[0m\u001b[0;34m(\u001b[0m\u001b[0;34m\"Please enter a number \"\u001b[0m\u001b[0;34m)\u001b[0m\u001b[0;34m)\u001b[0m\u001b[0;34m\u001b[0m\u001b[0;34m\u001b[0m\u001b[0m\n\u001b[0m\u001b[1;32m      2\u001b[0m \u001b[0;34m\u001b[0m\u001b[0m\n\u001b[1;32m      3\u001b[0m \u001b[0;34m\u001b[0m\u001b[0m\n\u001b[1;32m      4\u001b[0m \u001b[0;32mdef\u001b[0m \u001b[0mcollatz_conjecture\u001b[0m\u001b[0;34m(\u001b[0m\u001b[0ma\u001b[0m\u001b[0;34m)\u001b[0m\u001b[0;34m:\u001b[0m\u001b[0;34m\u001b[0m\u001b[0;34m\u001b[0m\u001b[0m\n\u001b[1;32m      5\u001b[0m     \u001b[0;32mif\u001b[0m\u001b[0;34m(\u001b[0m\u001b[0ma\u001b[0m\u001b[0;34m%\u001b[0m\u001b[0;36m2\u001b[0m\u001b[0;34m==\u001b[0m\u001b[0;36m0\u001b[0m\u001b[0;34m)\u001b[0m\u001b[0;34m:\u001b[0m\u001b[0;34m\u001b[0m\u001b[0;34m\u001b[0m\u001b[0m\n",
            "\u001b[0;32m/usr/local/lib/python3.6/dist-packages/ipykernel/kernelbase.py\u001b[0m in \u001b[0;36mraw_input\u001b[0;34m(self, prompt)\u001b[0m\n\u001b[1;32m    703\u001b[0m             \u001b[0mself\u001b[0m\u001b[0;34m.\u001b[0m\u001b[0m_parent_ident\u001b[0m\u001b[0;34m,\u001b[0m\u001b[0;34m\u001b[0m\u001b[0;34m\u001b[0m\u001b[0m\n\u001b[1;32m    704\u001b[0m             \u001b[0mself\u001b[0m\u001b[0;34m.\u001b[0m\u001b[0m_parent_header\u001b[0m\u001b[0;34m,\u001b[0m\u001b[0;34m\u001b[0m\u001b[0;34m\u001b[0m\u001b[0m\n\u001b[0;32m--> 705\u001b[0;31m             \u001b[0mpassword\u001b[0m\u001b[0;34m=\u001b[0m\u001b[0;32mFalse\u001b[0m\u001b[0;34m,\u001b[0m\u001b[0;34m\u001b[0m\u001b[0;34m\u001b[0m\u001b[0m\n\u001b[0m\u001b[1;32m    706\u001b[0m         )\n\u001b[1;32m    707\u001b[0m \u001b[0;34m\u001b[0m\u001b[0m\n",
            "\u001b[0;32m/usr/local/lib/python3.6/dist-packages/ipykernel/kernelbase.py\u001b[0m in \u001b[0;36m_input_request\u001b[0;34m(self, prompt, ident, parent, password)\u001b[0m\n\u001b[1;32m    733\u001b[0m             \u001b[0;32mexcept\u001b[0m \u001b[0mKeyboardInterrupt\u001b[0m\u001b[0;34m:\u001b[0m\u001b[0;34m\u001b[0m\u001b[0;34m\u001b[0m\u001b[0m\n\u001b[1;32m    734\u001b[0m                 \u001b[0;31m# re-raise KeyboardInterrupt, to truncate traceback\u001b[0m\u001b[0;34m\u001b[0m\u001b[0;34m\u001b[0m\u001b[0;34m\u001b[0m\u001b[0m\n\u001b[0;32m--> 735\u001b[0;31m                 \u001b[0;32mraise\u001b[0m \u001b[0mKeyboardInterrupt\u001b[0m\u001b[0;34m\u001b[0m\u001b[0;34m\u001b[0m\u001b[0m\n\u001b[0m\u001b[1;32m    736\u001b[0m             \u001b[0;32melse\u001b[0m\u001b[0;34m:\u001b[0m\u001b[0;34m\u001b[0m\u001b[0;34m\u001b[0m\u001b[0m\n\u001b[1;32m    737\u001b[0m                 \u001b[0;32mbreak\u001b[0m\u001b[0;34m\u001b[0m\u001b[0;34m\u001b[0m\u001b[0m\n",
            "\u001b[0;31mKeyboardInterrupt\u001b[0m: "
          ]
        }
      ]
    },
    {
      "metadata": {
        "id": "5Ju64CnC0eHg",
        "colab_type": "code",
        "outputId": "2f286c84-8e54-4861-8656-e2e32dd2229c",
        "colab": {
          "base_uri": "https://localhost:8080/",
          "height": 119
        }
      },
      "cell_type": "code",
      "source": [
        "from math import factorial\n",
        "a=0\n",
        "b=6\n",
        "k=0\n",
        "for i in range(a,b):\n",
        "    k=b-i;j=0  \n",
        "    #print(\\n)#print(k)\n",
        "    print(\" \"*k,sep=\"\\n\",end=\" \")\n",
        "    while(j<=i) :\n",
        "        x=factorial(i)\n",
        "        y=factorial(j)*factorial(i-j)\n",
        "        print(x//y,sep=\"\\n\",end=\" \")\n",
        "        j += 1\n",
        "    print(\" \")    \n",
        "    "
      ],
      "execution_count": 0,
      "outputs": [
        {
          "output_type": "stream",
          "text": [
            "       1  \n",
            "      1 1  \n",
            "     1 2 1  \n",
            "    1 3 3 1  \n",
            "   1 4 6 4 1  \n",
            "  1 5 10 10 5 1  \n"
          ],
          "name": "stdout"
        }
      ]
    },
    {
      "metadata": {
        "id": "fYr-sH3F5J66",
        "colab_type": "code",
        "outputId": "d2f4682c-4d50-4e4d-e25e-297c766f1bcb",
        "colab": {
          "base_uri": "https://localhost:8080/",
          "height": 68
        }
      },
      "cell_type": "code",
      "source": [
        "import math\n",
        "from math import factorial\n",
        "a=int(input(\"Please enter a number \"));\n",
        "l=[];j=0\n",
        "for i in range(1,a+1):\n",
        "       if(a%i==0):\n",
        "          #print(i,sep=\"\\n\",end=\" \")\n",
        "           l.append(i)\n",
        "\n",
        "print(\"The  divisors of a given integer are : \",sep=\"\\n\",end=\" \")\n",
        "for x in l:\n",
        "    print(x,sep=\"\\n\",end=\",\")\n",
        "print()\n",
        "if(len(l)==2):\n",
        "   print(\"Given  number is a prime number\")\n",
        "else:\n",
        "   print(\"The number is a composite number\")"
      ],
      "execution_count": 0,
      "outputs": [
        {
          "output_type": "stream",
          "text": [
            "Please enter a number 29\n",
            "The  divisors of a given integer are :  1,29,\n",
            "Given  number is a prime number\n"
          ],
          "name": "stdout"
        }
      ]
    },
    {
      "metadata": {
        "id": "Qs9c1nZzEM_u",
        "colab_type": "code",
        "outputId": "6f5763ea-9701-4b2c-f316-752dafe91982",
        "colab": {
          "base_uri": "https://localhost:8080/",
          "height": 51
        }
      },
      "cell_type": "code",
      "source": [
        "#Python Program to Print all the Prime Numbers within a Given Range\n",
        "from math import factorial\n",
        "a=int(input(\"Please enter a number \"));\n",
        "l=[];j=1;h=[]\n",
        "for j in range(1,a+1):\n",
        "    l=[]\n",
        "    #print(\"j\",j)\n",
        "    for i in range(1,j+1):\n",
        "        #print(\"i\",i)\n",
        "        if(j%i==0):\n",
        "           l.append(i)\n",
        "    if(len(l)==2):\n",
        "       h.append(j)\n",
        "print(h)\n",
        "       \n",
        "\n",
        "\n",
        "    \n",
        "    \n"
      ],
      "execution_count": 0,
      "outputs": [
        {
          "output_type": "stream",
          "text": [
            "Please enter a number 23\n",
            "[2, 3, 5, 7, 11, 13, 17, 19, 23]\n"
          ],
          "name": "stdout"
        }
      ]
    },
    {
      "metadata": {
        "id": "sOFvd0j5wb6A",
        "colab_type": "code",
        "outputId": "c4ace47e-dc0c-4823-f9aa-508523fdead9",
        "colab": {
          "base_uri": "https://localhost:8080/",
          "height": 51
        }
      },
      "cell_type": "code",
      "source": [
        "#Python Program to Compute Prime Factors of an Integer\n",
        "a=int(input(\"Please enter a number \"));\n",
        "m=[]\n",
        "def primefactors(a):\n",
        "    l=[];j=1;h=[]\n",
        "    for i in range(1,a+1): \n",
        "            if(a%i==0):\n",
        "               l.append(i)\n",
        "    if(len(l)==2):\n",
        "            #print(a)\n",
        "            return(a)\n",
        " \n",
        " #get divisors of an integer\n",
        "for i in range(1,a+1):\n",
        "       if(a%i==0):\n",
        "          #print(i,sep=\"\\n\",end=\" \")\n",
        "           m.append(i)\n",
        "\n",
        "#print(\"The  prime factors of a given integer are : \",sep=\"\\n\",end=\" \")\n",
        "for x in m:\n",
        "    y=primefactors(x)\n",
        "    if(y!=None):\n",
        "      print(y,sep=\"\\n\",end=\",\")\n",
        "print()\n",
        "  \n"
      ],
      "execution_count": 0,
      "outputs": [
        {
          "output_type": "stream",
          "text": [
            "Please enter a number 24\n",
            "2,3,\n"
          ],
          "name": "stdout"
        }
      ]
    },
    {
      "metadata": {
        "id": "aQ779Xx3vgPo",
        "colab_type": "code",
        "outputId": "625b6894-fc24-48c5-ce84-ab8993aa084e",
        "colab": {
          "base_uri": "https://localhost:8080/",
          "height": 68
        }
      },
      "cell_type": "code",
      "source": [
        "#Python Program to Find the LCM of Two Numbers\n",
        "a=int(input(\"Enter the first number:\"))\n",
        "b=int(input(\"Enter the second number:\"))\n",
        "if(a>b):\n",
        "    min1=a\n",
        "else:\n",
        "    min1=b\n",
        "while(1):\n",
        "    #print(min1)\n",
        "    if(min1%a==0 and min1%b==0):\n",
        "        print(\"LCM is:\",min1)\n",
        "        break\n",
        "    min1=min1+1"
      ],
      "execution_count": 0,
      "outputs": [
        {
          "output_type": "stream",
          "text": [
            "Enter the first number:15\n",
            "Enter the second number:20\n",
            "LCM is: 60\n"
          ],
          "name": "stdout"
        }
      ]
    },
    {
      "metadata": {
        "id": "nirkRkVAMHPk",
        "colab_type": "code",
        "outputId": "931980d7-ccc8-41f9-c51d-ee0447230111",
        "colab": {
          "base_uri": "https://localhost:8080/",
          "height": 136
        }
      },
      "cell_type": "code",
      "source": [
        "#Python Program to Search the Number of Times a Particular Number Occurs in a List\n",
        "l=[1,2,3,4,5,6,1,2,3,4,1,2,3,1,2,3]\n",
        "s=set(l)\n",
        "print(s)\n",
        "for x in s:\n",
        "    print(\"Count\",x,\" in list\",l.count(x))\n"
      ],
      "execution_count": 0,
      "outputs": [
        {
          "output_type": "stream",
          "text": [
            "{1, 2, 3, 4, 5, 6}\n",
            "Count 1  in list 4\n",
            "Count 2  in list 4\n",
            "Count 3  in list 4\n",
            "Count 4  in list 2\n",
            "Count 5  in list 1\n",
            "Count 6  in list 1\n"
          ],
          "name": "stdout"
        }
      ]
    },
    {
      "metadata": {
        "id": "j9L68cnbPZxN",
        "colab_type": "code",
        "outputId": "2f35735f-48a4-41a1-f011-91549f2be6c6",
        "colab": {
          "base_uri": "https://localhost:8080/",
          "height": 68
        }
      },
      "cell_type": "code",
      "source": [
        "#Python Program to Find Whether a Number is a Power of Two\n",
        "from math import sqrt,log\n",
        "a=int(input(\"Please enter a number \"));\n",
        "b=(log(a,2))\n",
        "print(b)\n",
        "if(b==int(b)):\n",
        "    print(a , \" is a power of 2\")\n",
        "else:\n",
        "    print(a,\" is not a power of 2\")\n"
      ],
      "execution_count": 0,
      "outputs": [
        {
          "output_type": "stream",
          "text": [
            "Please enter a number 15\n",
            "3.9068905956085187\n",
            "15  is not a power of 2\n"
          ],
          "name": "stdout"
        }
      ]
    },
    {
      "metadata": {
        "id": "ZdViIWuhSCaD",
        "colab_type": "code",
        "outputId": "50204356-bf08-4a41-e102-9c60377c1fd4",
        "colab": {
          "base_uri": "https://localhost:8080/",
          "height": 136
        }
      },
      "cell_type": "code",
      "source": [
        "#Python Program to Find the Sum of the Series: 1 + 1/2 + 1/3 + ….. + 1/N\n",
        "#Python Program to Find the Sum of the Series: 1 + x^2/2 + x^3/3 + … x^n/n\n",
        "#Python Program to Compute the Value of Euler's Number e. Use the Formula: e = 1 + 1/1! + 1/2! + …… 1/n!\n",
        "from math import factorial\n",
        "a=int(input(\"Please enter a number \"));j=0;k=0;n=0\n",
        "for x in range(1,a):\n",
        "    j= j+1/x\n",
        "    print(j,sep=\"\\n\",end=\"+\")\n",
        "print()\n",
        "print(\"Sum of the series 1: \",j)\n",
        "for x in range(1,a):\n",
        "    k= k+x**(x/x)\n",
        "    print(k,sep=\"\\n\",end=\"+\")\n",
        "print()\n",
        "print(\"Sum of the series 2: \",k)\n",
        "for x in range(1,a):\n",
        "    n = n+(1/factorial(x))\n",
        "    print(n,sep=\"\\n\",end=\"+\")\n",
        "print()\n",
        "print(\"Euer's Number : \",n)\n"
      ],
      "execution_count": 0,
      "outputs": [
        {
          "output_type": "stream",
          "text": [
            "Please enter a number 5\n",
            "1.0+1.5+1.8333333333333333+2.083333333333333+\n",
            "Sum of the series 1:  2.083333333333333\n",
            "1.0+3.0+6.0+10.0+\n",
            "Sum of the series 2:  10.0\n",
            "1.0+1.5+1.6666666666666667+1.7083333333333335+\n",
            "Euer's Number :  1.7083333333333335\n"
          ],
          "name": "stdout"
        }
      ]
    },
    {
      "metadata": {
        "id": "Qzq9n1i8dzXV",
        "colab_type": "code",
        "outputId": "ec16fa6b-f3a8-48bf-f589-6b104ae2f3ed",
        "colab": {
          "base_uri": "https://localhost:8080/",
          "height": 85
        }
      },
      "cell_type": "code",
      "source": [
        "#Python Program to Find the Area of a Triangle Given All Three Sides\n",
        "from math import sqrt\n",
        "a=int(input(\"Please enter a number \"))\n",
        "b=int(input(\"Please enter a number \"));c=int(input(\"Please enter a number \"))\n",
        "n=(a+b+c)/2\n",
        "Area=sqrt(n*(n-a)*(n-b)*(n-c))\n",
        "print(Area)\n",
        "\n",
        "\n",
        "\n"
      ],
      "execution_count": 0,
      "outputs": [
        {
          "output_type": "stream",
          "text": [
            "Please enter a number 4\n",
            "Please enter a number 5\n",
            "Please enter a number 6\n",
            "9.921567416492215\n"
          ],
          "name": "stdout"
        }
      ]
    },
    {
      "metadata": {
        "id": "rr4zN5oefLfS",
        "colab_type": "code",
        "outputId": "4b28786f-3c98-4621-9b2e-9de33024e3b7",
        "colab": {
          "base_uri": "https://localhost:8080/",
          "height": 119
        }
      },
      "cell_type": "code",
      "source": [
        "#Python Program to Find the Sum of Sine Series\n",
        "#Python Program to Find the Sum of Cosine Series\n",
        "from math import factorial,sin,pi,cos\n",
        "a=int(input(\"Please enter a number \"));sum=0\n",
        "b=int(input(\"Please enter number of terms \"))\n",
        "for x in range(0,b):\n",
        "        y=(a*pi)/180\n",
        "        #print(\"y\",y)\n",
        "        sign=(-1)**x\n",
        "        sum=sum+((((-1)**x)*y**(2*x+1)))/factorial(2*x+1)\n",
        "    \n",
        "    \n",
        "print(round(sum,2))\n",
        "print(sin(y))\n",
        "sum=0\n",
        "for x in range(0,b):\n",
        "        y=(a*pi)/180\n",
        "        sum=sum+((((-1)**x)*y**(2*x)))/factorial(2*x)\n",
        "    #print(sum)\n",
        "    \n",
        "    \n",
        "print(round(sum,2))\n",
        "print(round(cos(y),2))\n"
      ],
      "execution_count": 0,
      "outputs": [
        {
          "output_type": "stream",
          "text": [
            "Please enter a number 90\n",
            "Please enter number of terms 12\n",
            "1.0\n",
            "1.0\n",
            "0.0\n",
            "0.0\n"
          ],
          "name": "stdout"
        }
      ]
    },
    {
      "metadata": {
        "id": "oXFTylzyzj0A",
        "colab_type": "code",
        "outputId": "c5b751c6-d6ad-4307-ebec-30bac7f6d6e7",
        "colab": {
          "base_uri": "https://localhost:8080/",
          "height": 51
        }
      },
      "cell_type": "code",
      "source": [
        "#Python Program to Take the Temperature in Celcius and Covert it to Farenheit\n",
        "a=float(input(\"Please enter temperature in celsius \"))\n",
        "f = (a*(9/5))+32\n",
        "print(\"Temperature in Fahrenheit is \",f)\n"
      ],
      "execution_count": 0,
      "outputs": [
        {
          "output_type": "stream",
          "text": [
            "Please enter temperature in celsius 40\n",
            " Temperature in Fahrenheit is  104.0\n"
          ],
          "name": "stdout"
        }
      ]
    },
    {
      "metadata": {
        "id": "ctcRtmwBOEc7",
        "colab_type": "code",
        "outputId": "def39eea-2f3a-4c4e-b80b-be7934f36e2d",
        "colab": {
          "base_uri": "https://localhost:8080/",
          "height": 68
        }
      },
      "cell_type": "code",
      "source": [
        "#Python Program to Read Height in Centimeters and then Convert the Height to Feet and Inches\n",
        "a=float(input(\"Please enter your height in centimeters \"))\n",
        "i=a/2.54\n",
        "f=a/30.48\n",
        "print(\"your height in inches is : \",i)\n",
        "print(\"your height in feet is : \",f)"
      ],
      "execution_count": 0,
      "outputs": [
        {
          "output_type": "stream",
          "text": [
            "Please enter your height in centimeters 200\n",
            "your height in inches is :  78.74015748031496\n",
            "your height in feet is :  6.561679790026247\n"
          ],
          "name": "stdout"
        }
      ]
    },
    {
      "metadata": {
        "id": "hX1e7ttpPbHk",
        "colab_type": "code",
        "outputId": "5e4315ca-0719-4268-977c-6338bb954cc7",
        "colab": {
          "base_uri": "https://localhost:8080/",
          "height": 51
        }
      },
      "cell_type": "code",
      "source": [
        "#Python Program to Find Those Numbers which are Divisible by 7 and Multiple of 5 in a Given Range of Numbers\n",
        "a=int(input(\"Please enter a range \"))\n",
        "l=[]\n",
        "for i in range(1,a+1):\n",
        "    #print(i)\n",
        "    if(i%7==0 and i%5==0):\n",
        "       l.append(i)\n",
        "        \n",
        "        \n",
        "print(\"The list is \",l)\n",
        "   \n"
      ],
      "execution_count": 0,
      "outputs": [
        {
          "output_type": "stream",
          "text": [
            "Please enter a range 700\n",
            "The list is  [35, 70, 105, 140, 175, 210, 245, 280, 315, 350, 385, 420, 455, 490, 525, 560, 595, 630, 665, 700]\n"
          ],
          "name": "stdout"
        }
      ]
    },
    {
      "metadata": {
        "id": "rycD3YMxcL91",
        "colab_type": "code",
        "colab": {}
      },
      "cell_type": "code",
      "source": [
        "#Python Program to Form an Integer that has the Number of Digits at Ten's Place and the Least Significant Digit of the Entered Integer at One's Place\n",
        "\n",
        "\n"
      ],
      "execution_count": 0,
      "outputs": []
    },
    {
      "metadata": {
        "id": "F2YCI66DwyiX",
        "colab_type": "code",
        "outputId": "97e311e1-4c9c-40dd-ee00-9f9491cac5c9",
        "colab": {
          "base_uri": "https://localhost:8080/",
          "height": 85
        }
      },
      "cell_type": "code",
      "source": [
        "#Python Program to Count Set Bits in a Number\n",
        "a=int(input(\"Please enter a range \"))\n",
        "b=str(bin(a))\n",
        "b_binary=b[2:]\n",
        "b_len=len(b_binary)\n",
        "c=int(b_binary)\n",
        "#print(a,b,b_binary,b_len,c)\n",
        "i_val=c\n",
        "l=[]\n",
        "for i in range((b_len-1),-1,-1):\n",
        "    v_com=(10**i);#print(v_com,i)\n",
        "    a_i=i_val%v_com;a_i2=i_val//v_com\n",
        "    i_val=a_i\n",
        "    l.append(a_i2)\n",
        "#print(l)\n",
        "j=0;\n",
        "print(l)\n",
        "for x in l:\n",
        "   if(x==1):\n",
        "      j += 1\n",
        "print(\"Set bits in given number \",a,\" is \",j)\n",
        "#Python Program to Clear the Rightmost Set Bit of a Number\n",
        "l.pop()\n",
        "l.append(0)\n",
        "#print(l);\n",
        "sum=0;n=b_len-1\n",
        "for s in l:\n",
        "    sum=sum+s*(2**n)\n",
        "    n -= 1\n",
        "print(\"Number after clearing rightmost set bit is : \",sum)\n",
        "\n",
        " \n",
        "\n",
        "\n"
      ],
      "execution_count": 0,
      "outputs": [
        {
          "output_type": "stream",
          "text": [
            "Please enter a range 5\n",
            "[1, 0, 1]\n",
            "Set bits in given number  5  is  2\n",
            "Number after clearing rightmost set bit is :  4\n"
          ],
          "name": "stdout"
        }
      ]
    },
    {
      "metadata": {
        "id": "c4cgzTtrUH7f",
        "colab_type": "code",
        "outputId": "92c20b05-f0d9-4f8e-fe4d-c8f69f3ba403",
        "colab": {
          "base_uri": "https://localhost:8080/",
          "height": 102
        }
      },
      "cell_type": "code",
      "source": [
        "#Python Program to Convert Gray Code to Binary\n",
        "def xor(a,b):\n",
        "  if(a==b):\n",
        "    #print(\"equal 0\")\n",
        "    c=0\n",
        "  else:\n",
        "    #print(\"not equal 1\")\n",
        "    c=1\n",
        "  return(c)\n",
        "\n",
        "a=input(\"Please enter a gray code \")\n",
        "b_len=len(a)\n",
        "c=int(a)\n",
        "print(a,b_len,c)\n",
        "i_val=c\n",
        "l=[]\n",
        "for i in range((b_len-1),-1,-1):\n",
        "    v_com=(10**i);#print(v_com,i)\n",
        "    a_i=i_val%v_com;a_i2=i_val//v_com\n",
        "    i_val=a_i\n",
        "    l.append(a_i2)\n",
        "print(l)\n",
        "#To binary\n",
        "j=[];m=0\n",
        "j.append(l[0])\n",
        "#print(j,b_len)\n",
        "for i in range(1,b_len):\n",
        "    m=xor(j[i-1],l[i])\n",
        "    j.append(m)\n",
        "print(\"Binary code to given gray code is \")\n",
        "for x in j:\n",
        "  \n",
        "    print(x,sep=\"\\n\",end=\"\")\n",
        "\n",
        "  \n",
        "\n",
        "\n",
        "\n"
      ],
      "execution_count": 0,
      "outputs": [
        {
          "output_type": "stream",
          "text": [
            "Please enter a gray code 110\n",
            "110 3 110\n",
            "[1, 1, 0]\n",
            "Binary code to given gray code is \n",
            "100"
          ],
          "name": "stdout"
        }
      ]
    },
    {
      "metadata": {
        "id": "jj3tHYFYd4QO",
        "colab_type": "code",
        "outputId": "bb361051-63e2-469f-a5a1-e2be099752a1",
        "colab": {
          "base_uri": "https://localhost:8080/",
          "height": 102
        }
      },
      "cell_type": "code",
      "source": [
        "##Python Program to Convert binary Code to gray\n",
        "def xor(a,b):\n",
        "  if(a==b):\n",
        "    #print(\"equal 0\")\n",
        "    c=0\n",
        "  else:\n",
        "    #print(\"not equal 1\")\n",
        "    c=1\n",
        "  return(c)\n",
        "\n",
        "a=input(\"Please enter a binary code \")\n",
        "b_len=len(a)\n",
        "c=int(a)\n",
        "print(a,b_len,c)\n",
        "i_val=c\n",
        "l=[]\n",
        "for i in range((b_len-1),-1,-1):\n",
        "    v_com=(10**i);#print(v_com,i)\n",
        "    a_i=i_val%v_com;a_i2=i_val//v_com\n",
        "    i_val=a_i\n",
        "    l.append(a_i2)\n",
        "print(l)\n",
        "#To binary\n",
        "j=[];m=0\n",
        "j.append(l[0])\n",
        "#print(j,b_len)\n",
        "for i in range(1,b_len):\n",
        "    m=xor(l[i-1],l[i])\n",
        "    j.append(m)\n",
        "print(\"gray code to given binary code is \")\n",
        "for x in j:\n",
        "  \n",
        "    print(x,sep=\"\\n\",end=\"\")\n"
      ],
      "execution_count": 0,
      "outputs": [
        {
          "output_type": "stream",
          "text": [
            "Please enter a binary code 1\n",
            "1 1 1\n",
            "[1]\n",
            "gray code to given binary code is \n",
            "1"
          ],
          "name": "stdout"
        }
      ]
    },
    {
      "metadata": {
        "id": "uDoT5LFjMaZS",
        "colab_type": "code",
        "outputId": "a661b660-d5d3-4d97-d760-888b30a16f48",
        "colab": {
          "base_uri": "https://localhost:8080/",
          "height": 221
        }
      },
      "cell_type": "code",
      "source": [
        "#Python Program to Generate Gray Codes using Recursion\n",
        "def xor(a,b):\n",
        "  if(a==b):\n",
        "    #print(\"equal 0\")\n",
        "    c=0\n",
        "  else:\n",
        "    #print(\"not equal 1\")\n",
        "    c=1\n",
        "  return(c)\n",
        "a=int(input(\"Please enter a range \"))\n",
        "for i in range(0,a+1):\n",
        "  b=bin(i)\n",
        "  p=str(b)\n",
        "  o=p[2:]\n",
        "  b_len=len(o)\n",
        "  c=int(o)\n",
        "  #print(a,b_len,c)\n",
        "  i_val=c\n",
        "  l=[]\n",
        "  for i in range((b_len-1),-1,-1):\n",
        "      v_com=(10**i);#print(v_com,i)\n",
        "      a_i=i_val%v_com;a_i2=i_val//v_com\n",
        "      i_val=a_i\n",
        "      l.append(a_i2)\n",
        "  #print(l)\n",
        "#To binary\n",
        "  j=[];m=0\n",
        "  j.append(l[0])\n",
        " #print(j,b_len)\n",
        "  for i in range(1,b_len):\n",
        "      m=xor(l[i-1],l[i])\n",
        "      j.append(m)\n",
        "  #print(\"gray code to given binary code is \")\n",
        "  for x in j:\n",
        "  \n",
        "    print(x,sep=\"\\n\",end=\"\")\n",
        "  print()"
      ],
      "execution_count": 0,
      "outputs": [
        {
          "output_type": "stream",
          "text": [
            "Please enter a range 10\n",
            "0\n",
            "1\n",
            "11\n",
            "10\n",
            "110\n",
            "111\n",
            "101\n",
            "100\n",
            "1100\n",
            "1101\n",
            "1111\n"
          ],
          "name": "stdout"
        }
      ]
    },
    {
      "metadata": {
        "id": "d9ZPN0HEmK7_",
        "colab_type": "code",
        "outputId": "57b64f09-9532-4abe-cc3b-ca05e5b75814",
        "colab": {
          "base_uri": "https://localhost:8080/",
          "height": 51
        }
      },
      "cell_type": "code",
      "source": [
        "#Python Program to Check Whether a Given Year is a Leap Year\n",
        "a=int(input(\"Please enter a year \"))\n",
        "if(a%4==0):\n",
        "  if(a%100==0):\n",
        "    if(a%400==0):\n",
        "      print(\"Leap Year\")\n",
        "    else:\n",
        "      print(\"Not a leap year\")\n",
        "  else:\n",
        "     print(\"Leap Year\")\n",
        "else:\n",
        "   print(\"Not a leap year\")"
      ],
      "execution_count": 0,
      "outputs": [
        {
          "output_type": "stream",
          "text": [
            "Please enter a year 2019\n",
            "Not a leap year\n"
          ],
          "name": "stdout"
        }
      ]
    },
    {
      "metadata": {
        "id": "KP1h5y-hrhc4",
        "colab_type": "code",
        "outputId": "c2589d42-529e-4a8e-f589-3b70e43d27bd",
        "colab": {
          "base_uri": "https://localhost:8080/",
          "height": 34
        }
      },
      "cell_type": "code",
      "source": [
        "import datetime\n",
        "start_date=\"10/10/11\"\n",
        "date_1 = datetime.datetime.strptime(start_date, \"%m/%d/%y\")\n",
        "\n",
        "end_date = date_1 + datetime.timedelta(days=1)\n",
        "print(end_date)"
      ],
      "execution_count": 0,
      "outputs": [
        {
          "output_type": "stream",
          "text": [
            "2011-10-11 00:00:00\n"
          ],
          "name": "stdout"
        }
      ]
    },
    {
      "metadata": {
        "id": "9uRRBLWEnrqy",
        "colab_type": "code",
        "outputId": "0adfeb45-4232-4c3c-fb28-e1ad07fb4336",
        "colab": {
          "base_uri": "https://localhost:8080/",
          "height": 521
        }
      },
      "cell_type": "code",
      "source": [
        "#Python Program to Check if a Date is Valid and Print the Incremented Date if it is\n",
        "from datetime import datetime, date,timedelta\n",
        "today =date.today()\n",
        "d_dob=input(\"Please enter a date MM/DD/YYYY\")\n",
        "\n",
        "d_month=int(d_dob[0:2]);d_date=int(d_dob[3:5]);d_year=int(d_dob[6:])\n",
        "\n",
        "print(d_dob,d_month,d_date,d_year)\n",
        "\n",
        "#d_dob1=date(year = d_year, month = d_month, day = d_date)\n",
        "\n",
        "isValidDate = True\n",
        "try :\n",
        "    datetime(d_year,d_month,d_date)\n",
        "    \n",
        "except ValueError :\n",
        "  \n",
        "    isValidDate = False\n",
        "    \n",
        "if(isValidDate) :\n",
        "  \n",
        "    print (\"Input date is valid ..\")\n",
        "    \n",
        "    date_1 = datetime.strptime(d_dob, \"%m/%d/%y\")\n",
        "\n",
        "    end_date = date_1 + timedelta(days=1)\n",
        "    print(\"Incremented date is \",end_date)\n",
        "else :\n",
        "    print (\"Input date is not valid..\")\n",
        "\n",
        "\n"
      ],
      "execution_count": 0,
      "outputs": [
        {
          "output_type": "stream",
          "text": [
            "Please enter a date MM/DD/YYYY10/12/2019\n",
            "10/12/2019 10 12 2019\n",
            "Input date is valid ..\n"
          ],
          "name": "stdout"
        },
        {
          "output_type": "error",
          "ename": "ValueError",
          "evalue": "ignored",
          "traceback": [
            "\u001b[0;31m---------------------------------------------------------------------------\u001b[0m",
            "\u001b[0;31mValueError\u001b[0m                                Traceback (most recent call last)",
            "\u001b[0;32m<ipython-input-122-15a3e3a3f948>\u001b[0m in \u001b[0;36m<module>\u001b[0;34m()\u001b[0m\n\u001b[1;32m     21\u001b[0m     \u001b[0mprint\u001b[0m \u001b[0;34m(\u001b[0m\u001b[0;34m\"Input date is valid ..\"\u001b[0m\u001b[0;34m)\u001b[0m\u001b[0;34m\u001b[0m\u001b[0;34m\u001b[0m\u001b[0m\n\u001b[1;32m     22\u001b[0m \u001b[0;34m\u001b[0m\u001b[0m\n\u001b[0;32m---> 23\u001b[0;31m     \u001b[0mdate_1\u001b[0m \u001b[0;34m=\u001b[0m \u001b[0mdatetime\u001b[0m\u001b[0;34m.\u001b[0m\u001b[0mstrptime\u001b[0m\u001b[0;34m(\u001b[0m\u001b[0md_dob\u001b[0m\u001b[0;34m,\u001b[0m \u001b[0;34m\"%m/%d/%y\"\u001b[0m\u001b[0;34m)\u001b[0m\u001b[0;34m\u001b[0m\u001b[0;34m\u001b[0m\u001b[0m\n\u001b[0m\u001b[1;32m     24\u001b[0m \u001b[0;34m\u001b[0m\u001b[0m\n\u001b[1;32m     25\u001b[0m     \u001b[0mend_date\u001b[0m \u001b[0;34m=\u001b[0m \u001b[0mdate_1\u001b[0m \u001b[0;34m+\u001b[0m \u001b[0mtimedelta\u001b[0m\u001b[0;34m(\u001b[0m\u001b[0mdays\u001b[0m\u001b[0;34m=\u001b[0m\u001b[0;36m1\u001b[0m\u001b[0;34m)\u001b[0m\u001b[0;34m\u001b[0m\u001b[0;34m\u001b[0m\u001b[0m\n",
            "\u001b[0;32m/usr/lib/python3.6/_strptime.py\u001b[0m in \u001b[0;36m_strptime_datetime\u001b[0;34m(cls, data_string, format)\u001b[0m\n\u001b[1;32m    563\u001b[0m     \"\"\"Return a class cls instance based on the input string and the\n\u001b[1;32m    564\u001b[0m     format string.\"\"\"\n\u001b[0;32m--> 565\u001b[0;31m     \u001b[0mtt\u001b[0m\u001b[0;34m,\u001b[0m \u001b[0mfraction\u001b[0m \u001b[0;34m=\u001b[0m \u001b[0m_strptime\u001b[0m\u001b[0;34m(\u001b[0m\u001b[0mdata_string\u001b[0m\u001b[0;34m,\u001b[0m \u001b[0mformat\u001b[0m\u001b[0;34m)\u001b[0m\u001b[0;34m\u001b[0m\u001b[0;34m\u001b[0m\u001b[0m\n\u001b[0m\u001b[1;32m    566\u001b[0m     \u001b[0mtzname\u001b[0m\u001b[0;34m,\u001b[0m \u001b[0mgmtoff\u001b[0m \u001b[0;34m=\u001b[0m \u001b[0mtt\u001b[0m\u001b[0;34m[\u001b[0m\u001b[0;34m-\u001b[0m\u001b[0;36m2\u001b[0m\u001b[0;34m:\u001b[0m\u001b[0;34m]\u001b[0m\u001b[0;34m\u001b[0m\u001b[0;34m\u001b[0m\u001b[0m\n\u001b[1;32m    567\u001b[0m     \u001b[0margs\u001b[0m \u001b[0;34m=\u001b[0m \u001b[0mtt\u001b[0m\u001b[0;34m[\u001b[0m\u001b[0;34m:\u001b[0m\u001b[0;36m6\u001b[0m\u001b[0;34m]\u001b[0m \u001b[0;34m+\u001b[0m \u001b[0;34m(\u001b[0m\u001b[0mfraction\u001b[0m\u001b[0;34m,\u001b[0m\u001b[0;34m)\u001b[0m\u001b[0;34m\u001b[0m\u001b[0;34m\u001b[0m\u001b[0m\n",
            "\u001b[0;32m/usr/lib/python3.6/_strptime.py\u001b[0m in \u001b[0;36m_strptime\u001b[0;34m(data_string, format)\u001b[0m\n\u001b[1;32m    363\u001b[0m     \u001b[0;32mif\u001b[0m \u001b[0mlen\u001b[0m\u001b[0;34m(\u001b[0m\u001b[0mdata_string\u001b[0m\u001b[0;34m)\u001b[0m \u001b[0;34m!=\u001b[0m \u001b[0mfound\u001b[0m\u001b[0;34m.\u001b[0m\u001b[0mend\u001b[0m\u001b[0;34m(\u001b[0m\u001b[0;34m)\u001b[0m\u001b[0;34m:\u001b[0m\u001b[0;34m\u001b[0m\u001b[0;34m\u001b[0m\u001b[0m\n\u001b[1;32m    364\u001b[0m         raise ValueError(\"unconverted data remains: %s\" %\n\u001b[0;32m--> 365\u001b[0;31m                           data_string[found.end():])\n\u001b[0m\u001b[1;32m    366\u001b[0m \u001b[0;34m\u001b[0m\u001b[0m\n\u001b[1;32m    367\u001b[0m     \u001b[0miso_year\u001b[0m \u001b[0;34m=\u001b[0m \u001b[0myear\u001b[0m \u001b[0;34m=\u001b[0m \u001b[0;32mNone\u001b[0m\u001b[0;34m\u001b[0m\u001b[0;34m\u001b[0m\u001b[0m\n",
            "\u001b[0;31mValueError\u001b[0m: unconverted data remains: 19"
          ]
        }
      ]
    }
  ]
}