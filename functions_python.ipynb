{
  "nbformat": 4,
  "nbformat_minor": 0,
  "metadata": {
    "colab": {
      "name": "functions_python",
      "version": "0.3.2",
      "provenance": [],
      "collapsed_sections": [],
      "include_colab_link": true
    },
    "kernelspec": {
      "name": "python3",
      "display_name": "Python 3"
    }
  },
  "cells": [
    {
      "cell_type": "markdown",
      "metadata": {
        "id": "view-in-github",
        "colab_type": "text"
      },
      "source": [
        "<a href=\"https://colab.research.google.com/github/YaminikrishnaT/pythoncodes/blob/master/functions_python.ipynb\" target=\"_parent\"><img src=\"https://colab.research.google.com/assets/colab-badge.svg\" alt=\"Open In Colab\"/></a>"
      ]
    },
    {
      "metadata": {
        "id": "LxZNSJLd6y3T",
        "colab_type": "code",
        "outputId": "1291145b-916c-4c2d-ae4d-9072868a94eb",
        "colab": {
          "base_uri": "https://localhost:8080/",
          "height": 136
        }
      },
      "cell_type": "code",
      "source": [
        "#functions\n",
        "#functions are called methods in python,script consisting function is called module\n",
        "#method,module,package\n",
        "def s():#define a function\n",
        "    a=int(input(\"Please provide an integer \"))\n",
        "    print(\"Square of\",a,\"is\",a**2)\n",
        "    \n",
        "s() #calling a function\n",
        "\n",
        "def s1(a):\n",
        "    print(\"Square of\",a,\"is\",a**2)\n",
        " \n",
        "d=4\n",
        "s1(d)\n",
        "\n",
        "\n",
        "def s2(a,b):\n",
        "    return(a+b)\n",
        "  \n",
        "a=s2(4,5)\n",
        "print(a,s2(3,4))\n",
        "\n",
        "def s3(a,b):\n",
        "    c=a+b\n",
        "    print(c)\n",
        "    \n",
        "a=s3(4,3)\n",
        "print(a,s3(4,5))\n"
      ],
      "execution_count": 0,
      "outputs": [
        {
          "output_type": "stream",
          "text": [
            "Please provide an integer 67\n",
            "Square of 67 is 4489\n",
            "Square of 4 is 16\n",
            "9 7\n",
            "7\n",
            "9\n",
            "None None\n"
          ],
          "name": "stdout"
        }
      ]
    },
    {
      "metadata": {
        "id": "kGpHX6hXC9jK",
        "colab_type": "code",
        "outputId": "32723b86-b5df-4efe-a328-cec404491a23",
        "colab": {
          "base_uri": "https://localhost:8080/",
          "height": 34
        }
      },
      "cell_type": "code",
      "source": [
        "def s_ret(a,b):\n",
        "    c=a*b\n",
        "    return(c)\n",
        "  \n",
        "  \n",
        "m_ret=s_ret(23,34)\n",
        "print(m_ret)"
      ],
      "execution_count": 0,
      "outputs": [
        {
          "output_type": "stream",
          "text": [
            "782\n"
          ],
          "name": "stdout"
        }
      ]
    },
    {
      "metadata": {
        "id": "NsiZYwzDEClG",
        "colab_type": "code",
        "outputId": "0d43aaae-9270-49e1-c2fc-6077fe9e5e8b",
        "colab": {
          "base_uri": "https://localhost:8080/",
          "height": 130
        }
      },
      "cell_type": "code",
      "source": [
        "#default and arbitrary arguments\n",
        "def wish(name,w=\"GoodMorning\"): #here defining a default argument heps in taking a value for w variable even if the value is not given during the function call\n",
        "    print(name,w)\n",
        "\n",
        "wish(\"Hi\",\"wassup\")\n",
        "wish(\"HI\",)\n",
        "\n",
        "def multi(n1=33,n2=12):\n",
        "   print(n1*n2)\n",
        "    \n",
        "multi(23,6)\n",
        "multi(6,)\n",
        "multi()\n",
        "\n",
        "\n",
        "#arbitrary arguments\n",
        "def namess(a*):\n",
        "    print(list(a),\"Good Morning\")\n",
        "   \n",
        "namess(\"Yamini\",\"Krishna\",\"Roja\",\"raja\",\"rose\")"
      ],
      "execution_count": 0,
      "outputs": [
        {
          "output_type": "error",
          "ename": "SyntaxError",
          "evalue": "ignored",
          "traceback": [
            "\u001b[0;36m  File \u001b[0;32m\"<ipython-input-14-7c8dbc4369c1>\"\u001b[0;36m, line \u001b[0;32m16\u001b[0m\n\u001b[0;31m    def namess(a*):\u001b[0m\n\u001b[0m                ^\u001b[0m\n\u001b[0;31mSyntaxError\u001b[0m\u001b[0;31m:\u001b[0m invalid syntax\n"
          ]
        }
      ]
    },
    {
      "metadata": {
        "id": "kZmkESomHrLd",
        "colab_type": "code",
        "outputId": "9487ee4d-1af3-43d9-c8a9-275ba852ed05",
        "colab": {
          "base_uri": "https://localhost:8080/",
          "height": 102
        }
      },
      "cell_type": "code",
      "source": [
        "#arbitrary arguments\n",
        "def namess(*a):\n",
        "    for i in a:\n",
        "        print(i,\"Good Morning\")\n",
        "   \n",
        "namess(\"Yamini\",\"Krishna\",\"Roja\",\"raja\",\"rose\")"
      ],
      "execution_count": 0,
      "outputs": [
        {
          "output_type": "stream",
          "text": [
            "Yamini Good Morning\n",
            "Krishna Good Morning\n",
            "Roja Good Morning\n",
            "raja Good Morning\n",
            "rose Good Morning\n"
          ],
          "name": "stdout"
        }
      ]
    }
  ]
}