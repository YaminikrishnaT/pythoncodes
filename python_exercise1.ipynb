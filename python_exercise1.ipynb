{
  "nbformat": 4,
  "nbformat_minor": 0,
  "metadata": {
    "colab": {
      "name": "python_exercise1",
      "version": "0.3.2",
      "provenance": [],
      "collapsed_sections": [],
      "include_colab_link": true
    },
    "kernelspec": {
      "name": "python3",
      "display_name": "Python 3"
    }
  },
  "cells": [
    {
      "cell_type": "markdown",
      "metadata": {
        "id": "view-in-github",
        "colab_type": "text"
      },
      "source": [
        "<a href=\"https://colab.research.google.com/github/YaminikrishnaT/pythoncodes/blob/master/python_exercise1.ipynb\" target=\"_parent\"><img src=\"https://colab.research.google.com/assets/colab-badge.svg\" alt=\"Open In Colab\"/></a>"
      ]
    },
    {
      "metadata": {
        "id": "s_wHscfk6503",
        "colab_type": "code",
        "outputId": "6518a89c-d726-4078-f7f2-ffb2e247db07",
        "colab": {
          "base_uri": "https://localhost:8080/",
          "height": 187
        }
      },
      "cell_type": "code",
      "source": [
        "#pyramid code for loop\n",
        "a=1\n",
        "for i in range(1,11):\n",
        "    j=1\n",
        "    while(j<=i):\n",
        "        if(j<i):\n",
        "            print(a,sep=\"\\n\",end=\" \")\n",
        "            #a += 1\n",
        "            j += 1\n",
        "        else :\n",
        "            print(a)\n",
        "            #a += 1\n",
        "            j += 1"
      ],
      "execution_count": 0,
      "outputs": [
        {
          "output_type": "stream",
          "text": [
            "1\n",
            "1 1\n",
            "1 1 1\n",
            "1 1 1 1\n",
            "1 1 1 1 1\n",
            "1 1 1 1 1 1\n",
            "1 1 1 1 1 1 1\n",
            "1 1 1 1 1 1 1 1\n",
            "1 1 1 1 1 1 1 1 1\n",
            "1 1 1 1 1 1 1 1 1 1\n"
          ],
          "name": "stdout"
        }
      ]
    },
    {
      "metadata": {
        "id": "fWhsN6ih74HW",
        "colab_type": "code",
        "outputId": "668c366e-3efa-4ee0-e524-790f6a77e407",
        "colab": {
          "base_uri": "https://localhost:8080/",
          "height": 170
        }
      },
      "cell_type": "code",
      "source": [
        "#string manipulation\n",
        "a=\"Hi claSS how are you\"\n",
        "print(a.lower())\n",
        "print(a.upper())\n",
        "b=a.split()\n",
        "print (b)\n",
        "print (len(b))\n",
        "c='_'.join(b)\n",
        "print(c)\n",
        "print(len(c))\n",
        "print(a.find('la'))\n",
        "e=a.replace(\"Hi\",\"Every\")\n",
        "print(e)\n",
        "print(a.strip('Hi'))\n"
      ],
      "execution_count": 0,
      "outputs": [
        {
          "output_type": "stream",
          "text": [
            "hi class how are you\n",
            "HI CLASS HOW ARE YOU\n",
            "['Hi', 'claSS', 'how', 'are', 'you']\n",
            "5\n",
            "Hi_claSS_how_are_you\n",
            "20\n",
            "4\n",
            "Every claSS how are you\n",
            " claSS how are you\n"
          ],
          "name": "stdout"
        }
      ]
    },
    {
      "metadata": {
        "id": "Oc0lql6eBGPJ",
        "colab_type": "code",
        "outputId": "a1feca50-655e-46bd-f32c-3b483b00ff63",
        "colab": {
          "base_uri": "https://localhost:8080/",
          "height": 289
        }
      },
      "cell_type": "code",
      "source": [
        "#list datatype\n",
        "l1=[1,2,3,4,5] #define lists,lists must be an array of same datatype to perform operations and manipulations correclty and effectively\n",
        "print((l1))\n",
        "print(l1[0:3])\n",
        "print(l1[2:])\n",
        "#dir(l1) #to list all the function in list datatype\n",
        "l1.append(6) # to append a single value use append\n",
        "print(l1)\n",
        "l1.extend([6,3,5,3,4,6]) # tp append multiple values use extend\n",
        "print(l1)\n",
        "l2=l1.copy()\n",
        "print(l1,l2)\n",
        "l1.reverse()\n",
        "print(l1)\n",
        "print(l1[9])\n",
        "print(l1.count(6))\n",
        "print(l1.index(1)) #check\n",
        "l1.sort()\n",
        "print(l1)\n",
        "l1.reverse()\n",
        "print(\"reverse\",l1)\n",
        "l1.remove(3)\n",
        "print(l1)\n",
        "l1.pop()\n",
        "print(l1)\n",
        "l1.insert(7,2)\n",
        "print(l1)\n",
        "l1.clear()\n",
        "print(l1)"
      ],
      "execution_count": 0,
      "outputs": [
        {
          "output_type": "stream",
          "text": [
            "[1, 2, 3, 4, 5]\n",
            "[1, 2, 3]\n",
            "[3, 4, 5]\n",
            "[1, 2, 3, 4, 5, 6]\n",
            "[1, 2, 3, 4, 5, 6, 6, 3, 5, 3, 4, 6]\n",
            "[1, 2, 3, 4, 5, 6, 6, 3, 5, 3, 4, 6] [1, 2, 3, 4, 5, 6, 6, 3, 5, 3, 4, 6]\n",
            "[6, 4, 3, 5, 3, 6, 6, 5, 4, 3, 2, 1]\n",
            "3\n",
            "3\n",
            "11\n",
            "[1, 2, 3, 3, 3, 4, 4, 5, 5, 6, 6, 6]\n",
            "reverse [6, 6, 6, 5, 5, 4, 4, 3, 3, 3, 2, 1]\n",
            "[6, 6, 6, 5, 5, 4, 4, 3, 3, 2, 1]\n",
            "[6, 6, 6, 5, 5, 4, 4, 3, 3, 2]\n",
            "[6, 6, 6, 5, 5, 4, 4, 2, 3, 3, 2]\n",
            "[]\n"
          ],
          "name": "stdout"
        }
      ]
    },
    {
      "metadata": {
        "id": "rcjyrdbcpZ0a",
        "colab_type": "code",
        "outputId": "a108ee4a-b5fb-4929-b9fa-a4a55b45d4cf",
        "colab": {
          "base_uri": "https://localhost:8080/",
          "height": 799
        }
      },
      "cell_type": "code",
      "source": [
        "l1=[]\n",
        "dir(l1)"
      ],
      "execution_count": 0,
      "outputs": [
        {
          "output_type": "execute_result",
          "data": {
            "text/plain": [
              "['__add__',\n",
              " '__class__',\n",
              " '__contains__',\n",
              " '__delattr__',\n",
              " '__delitem__',\n",
              " '__dir__',\n",
              " '__doc__',\n",
              " '__eq__',\n",
              " '__format__',\n",
              " '__ge__',\n",
              " '__getattribute__',\n",
              " '__getitem__',\n",
              " '__gt__',\n",
              " '__hash__',\n",
              " '__iadd__',\n",
              " '__imul__',\n",
              " '__init__',\n",
              " '__init_subclass__',\n",
              " '__iter__',\n",
              " '__le__',\n",
              " '__len__',\n",
              " '__lt__',\n",
              " '__mul__',\n",
              " '__ne__',\n",
              " '__new__',\n",
              " '__reduce__',\n",
              " '__reduce_ex__',\n",
              " '__repr__',\n",
              " '__reversed__',\n",
              " '__rmul__',\n",
              " '__setattr__',\n",
              " '__setitem__',\n",
              " '__sizeof__',\n",
              " '__str__',\n",
              " '__subclasshook__',\n",
              " 'append',\n",
              " 'clear',\n",
              " 'copy',\n",
              " 'count',\n",
              " 'extend',\n",
              " 'index',\n",
              " 'insert',\n",
              " 'pop',\n",
              " 'remove',\n",
              " 'reverse',\n",
              " 'sort']"
            ]
          },
          "metadata": {
            "tags": []
          },
          "execution_count": 3
        }
      ]
    },
    {
      "metadata": {
        "id": "dUr-jtVZGM1r",
        "colab_type": "code",
        "outputId": "58a1a93d-ac01-4822-b1d2-62ccf564784c",
        "colab": {
          "base_uri": "https://localhost:8080/",
          "height": 136
        }
      },
      "cell_type": "code",
      "source": [
        "#tuple\n",
        "a=(1,2,3,4,5,5,5,5,5,6)\n",
        "print(type(a))\n",
        "print(a[1])\n",
        "#print (dir(a))\n",
        "print(a.index(3),a.count(5))\n",
        "#min,max,enumerate,sorted,len(used for integers),tuple,size(used for strings)\n",
        "print(min(a),max(a),len(a))\n",
        "print(tuple(a))\n",
        "print(len(a))\n",
        "b=[\"Yam\",\"ini\",\"kris\",\"hna\"]\n",
        "c=b.__sizeof__\n",
        "#print(sizeof(b))\n",
        "print(c)\n",
        "#try passsword verification code"
      ],
      "execution_count": 0,
      "outputs": [
        {
          "output_type": "stream",
          "text": [
            "<class 'tuple'>\n",
            "2\n",
            "2 5\n",
            "1 6 10\n",
            "(1, 2, 3, 4, 5, 5, 5, 5, 5, 6)\n",
            "10\n",
            "<built-in method __sizeof__ of list object at 0x7f4ee06ac408>\n"
          ],
          "name": "stdout"
        }
      ]
    },
    {
      "metadata": {
        "id": "KN5qlWCRxP8s",
        "colab_type": "code",
        "outputId": "2d9a78bc-f285-4b5a-d0ff-1438356396e7",
        "colab": {
          "base_uri": "https://localhost:8080/",
          "height": 51
        }
      },
      "cell_type": "code",
      "source": [
        "prev_password=(\"Maple\",\"Orange\",\"Guava\")\n",
        "curr_password=[input()]\n",
        "count = 0\n",
        "for i in range(0,len(prev_password)):\n",
        "    if(curr_password[0]==prev_password[i]):\n",
        "        count +=1\n",
        "if(count>0):\n",
        "    print('''Your password matches the last three passwords\n",
        "             Please enter password correctly''')\n",
        "    #curr_password1=[input()]\n",
        "    \n",
        "else:\n",
        "    print('password changed succesfuly')"
      ],
      "execution_count": 0,
      "outputs": [
        {
          "output_type": "stream",
          "text": [
            "kjh\n",
            "password changed succesfuly\n"
          ],
          "name": "stdout"
        }
      ]
    },
    {
      "metadata": {
        "id": "JFomlNDcObk9",
        "colab_type": "code",
        "outputId": "2bf7fecf-e7ad-4448-8b1a-f195814c8e8f",
        "colab": {
          "base_uri": "https://localhost:8080/",
          "height": 119
        }
      },
      "cell_type": "code",
      "source": [
        "#use tup.count\n",
        "prev_pwd=(\"Maple\",\"Orange\",\"Guava\")\n",
        "count=0;num_pwd=0\n",
        "while(count==0):\n",
        "    print(\"please enter new password\")\n",
        "    l1=[input()]\n",
        "    if(prev_pwd.count(l1[0])>0):\n",
        "        print(\"Password invalid.please enter new password\")\n",
        "        num_pwd += 1\n",
        "        print(num_pwd)\n",
        "        if(num_pwd>2):\n",
        "            print(\"password change limit exceeded\")\n",
        "            count += 1       \n",
        "    else:\n",
        "        print(\"password changed successfully\")\n",
        "        count += 1\n",
        "        curr_pwd_upd=list(prev_pwd)\n",
        "        print(curr_pwd_upd)\n",
        "        curr_pwd_upd.remove(curr_pwd_upd[0])\n",
        "        print(curr_pwd_upd)\n",
        "        curr_pwd_upd.append(l1[0])\n",
        "        print(curr_pwd_upd)\n",
        "        \n",
        "        \n",
        "        \n",
        "\n",
        "      "
      ],
      "execution_count": 0,
      "outputs": [
        {
          "output_type": "stream",
          "text": [
            "please enter new password\n",
            "GUava\n",
            "password changed successfully\n",
            "['Maple', 'Orange', 'Guava']\n",
            "['Orange', 'Guava']\n",
            "['Orange', 'Guava', 'GUava']\n"
          ],
          "name": "stdout"
        }
      ]
    }
  ]
}