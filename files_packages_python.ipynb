{
  "nbformat": 4,
  "nbformat_minor": 0,
  "metadata": {
    "colab": {
      "name": "files_packages_python",
      "version": "0.3.2",
      "provenance": [],
      "collapsed_sections": [],
      "include_colab_link": true
    },
    "kernelspec": {
      "name": "python3",
      "display_name": "Python 3"
    }
  },
  "cells": [
    {
      "cell_type": "markdown",
      "metadata": {
        "id": "view-in-github",
        "colab_type": "text"
      },
      "source": [
        "<a href=\"https://colab.research.google.com/github/YaminikrishnaT/pythoncodes/blob/master/files_packages_python.ipynb\" target=\"_parent\"><img src=\"https://colab.research.google.com/assets/colab-badge.svg\" alt=\"Open In Colab\"/></a>"
      ]
    },
    {
      "metadata": {
        "id": "Dbx3qJJdRp-L",
        "colab_type": "code",
        "outputId": "0d942dbf-5929-4c3a-96d8-4b6eb8c83a52",
        "colab": {
          "base_uri": "https://localhost:8080/",
          "height": 68
        }
      },
      "cell_type": "code",
      "source": [
        "#packages and modules\n",
        "#collection of method is module ,collection of modules is package\n",
        "#pycharm#pydev-any text editors\n",
        "import math\n",
        "from math import *#to call all the methods\n",
        "a=math.pi;r=12;print(a*r**2)\n",
        "from math import pi\n",
        "a=pi;print(a)\n",
        "from math import pi as b\n",
        "print(b)\n",
        "\n"
      ],
      "execution_count": 0,
      "outputs": [
        {
          "output_type": "stream",
          "text": [
            "452.3893421169302\n",
            "3.141592653589793\n",
            "3.141592653589793\n"
          ],
          "name": "stdout"
        }
      ]
    },
    {
      "metadata": {
        "id": "Cz2PGm4YUbqe",
        "colab_type": "code",
        "outputId": "5d932f07-2246-4f64-9d0f-531b6bc213d7",
        "colab": {
          "base_uri": "https://localhost:8080/",
          "height": 232
        }
      },
      "cell_type": "code",
      "source": [
        "from random import randint\n",
        "print(\"Please roll the dice\")\n",
        "\n",
        "count=0\n",
        "while (count==0):\n",
        "    a=randint(1,6)\n",
        "    i_usr=int(input(\"Please enter the number you wish\"))\n",
        "    print(\"You chose \", i_usr)\n",
        "    print(\"My number is \",a)\n",
        "    if(i_usr==a):\n",
        "        print(\"Congratulations you're expectations match\")\n",
        "    else:\n",
        "        print(\"Better luck next time\")\n",
        "    s_usr=input(\"Do you wish to continue?Y/N\")\n",
        "    if(s_usr==\"Y\" or s_usr==\"y\"):\n",
        "        pass\n",
        "    else:\n",
        "        print(\"Thanks for playing\")\n",
        "        break\n",
        "            \n",
        "    \n"
      ],
      "execution_count": 0,
      "outputs": [
        {
          "output_type": "stream",
          "text": [
            "Please roll the dice\n",
            "Please enter the number you wish1\n",
            "You chose  1\n",
            "My number is  5\n",
            "Better luck next time\n",
            "Do you wish to continue?Y/Ny\n",
            "Please enter the number you wish6\n",
            "You chose  6\n",
            "My number is  1\n",
            "Better luck next time\n",
            "Do you wish to continue?Y/Nn\n",
            "Thanks for playing\n"
          ],
          "name": "stdout"
        }
      ]
    },
    {
      "metadata": {
        "id": "d8srZ6RGXtUw",
        "colab_type": "code",
        "colab": {}
      },
      "cell_type": "code",
      "source": [
        "#files\n",
        "#open-------read r ,write w,exec e,append a, text t,binary b,addition of permissions +\n",
        "f=open(\"test.txt\");f.close()\n",
        "print(type(f))\n",
        "dir(f)"
      ],
      "execution_count": 0,
      "outputs": []
    },
    {
      "metadata": {
        "id": "Zj2T33G5daLs",
        "colab_type": "code",
        "colab": {}
      },
      "cell_type": "code",
      "source": [
        "#import re\n",
        "#import sys\n"
      ],
      "execution_count": 0,
      "outputs": []
    },
    {
      "metadata": {
        "id": "XbmEIJubreFy",
        "colab_type": "code",
        "outputId": "777d279e-8553-414f-880a-3e47a749ce7b",
        "colab": {
          "base_uri": "https://localhost:8080/",
          "height": 102
        }
      },
      "cell_type": "code",
      "source": [
        "#age calculator\n",
        "from datetime import date\n",
        "#d_dob=datetime.datetime.now()\n",
        "#d_dob1=datetime.date.today()\n",
        "#print(d_dob,d_dob1)\n",
        "d_dob=input(\" Please enter your date of birth mm-dd-yyyy: \")\n",
        "d_month=int(d_dob[0:2]);d_date=int(d_dob[3:5]);d_year=int(d_dob[6:])\n",
        "print(d_dob,d_month,d_date,d_year)\n",
        "d_today=date.today()\n",
        "print(d_today)\n",
        "d1 = date(year = d_year, month = d_month, day = d_date)\n",
        "d2 = date(year = d_today.year, month = d_today.month, day = d_today.day)\n",
        "d3=d2-d1\n",
        "print(d3)\n",
        "d4=d_today.year-d_year\n",
        "d5=d_today.month-d_month\n",
        "print(d4,d5)"
      ],
      "execution_count": 0,
      "outputs": [
        {
          "output_type": "stream",
          "text": [
            " Please enter your date of birth mm-dd-yyyy: 04-17-1992\n",
            "04-17-1992 4 17 1992\n",
            "2019-03-25\n",
            "9838 days, 0:00:00\n",
            "27 -1\n"
          ],
          "name": "stdout"
        }
      ]
    }
  ]
}