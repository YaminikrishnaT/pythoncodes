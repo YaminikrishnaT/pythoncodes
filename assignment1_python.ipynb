{
  "nbformat": 4,
  "nbformat_minor": 0,
  "metadata": {
    "colab": {
      "name": "assignment1_python",
      "version": "0.3.2",
      "provenance": [],
      "collapsed_sections": [],
      "include_colab_link": true
    },
    "kernelspec": {
      "name": "python3",
      "display_name": "Python 3"
    }
  },
  "cells": [
    {
      "cell_type": "markdown",
      "metadata": {
        "id": "view-in-github",
        "colab_type": "text"
      },
      "source": [
        "<a href=\"https://colab.research.google.com/github/YaminikrishnaT/pythoncodes/blob/master/assignment1_python.ipynb\" target=\"_parent\"><img src=\"https://colab.research.google.com/assets/colab-badge.svg\" alt=\"Open In Colab\"/></a>"
      ]
    },
    {
      "metadata": {
        "id": "0sg8S7txsdqv",
        "colab_type": "code",
        "outputId": "ccba2a1e-7584-4ba0-b337-11eb6fd02894",
        "colab": {
          "base_uri": "https://localhost:8080/",
          "height": 88
        }
      },
      "cell_type": "code",
      "source": [
        "#Python exercise to exchange the values of Two numbers without using a temp variable\n",
        "a=int(input())\n",
        "b=int(input())\n",
        "print(\"a is \",a,\"b is \",b)\n",
        "b=a+b\n",
        "a=b-a\n",
        "b=b-a\n",
        "print(\"a is \",a,\"b is \",b)\n"
      ],
      "execution_count": 0,
      "outputs": [
        {
          "output_type": "stream",
          "text": [
            "132\n",
            "558\n",
            "a is  132 b is  558\n",
            "a is  558 b is  132\n"
          ],
          "name": "stdout"
        }
      ]
    },
    {
      "metadata": {
        "id": "WTKD7bvou0Pc",
        "colab_type": "code",
        "outputId": "5627e69b-9fea-4ba0-8321-1d2a6b846241",
        "colab": {
          "base_uri": "https://localhost:8080/",
          "height": 70
        }
      },
      "cell_type": "code",
      "source": [
        "#Program to reverse a number\n",
        "a=input(\"Please enter a number \")\n",
        "a_len=len(a)\n",
        "print(\"The number given is : \",a)\n",
        "b=int(a)\n",
        "i_val=b\n",
        "l=[]\n",
        "for i in range((a_len-1),-1,-1):\n",
        "    v_com=(10**i)#print(v_com,i)\n",
        "    a_i=i_val%v_com;a_i2=i_val//v_com\n",
        "    i_val=a_i\n",
        "    l.append(a_i2)\n",
        "   \n",
        "  \n",
        "print(\"The reversed number is : \",sep=\"\\n\",end=\"\")\n",
        "for j in reversed(l):\n",
        "        print(j,sep=\"\\n\",end=\"\")\n",
        "\n",
        "    \n",
        "    \n",
        "#for i in range(a_len):\n",
        "    #print(i,a_i)\n",
        "    #a_str=str(c_2)+str(b_2)+str(a_2)\n",
        "    #print(a_str)\n",
        "\n"
      ],
      "execution_count": 0,
      "outputs": [
        {
          "output_type": "stream",
          "text": [
            "Please enter a number 5869\n",
            "The number given is :  5869\n",
            "The reversed number is : 9685"
          ],
          "name": "stdout"
        }
      ]
    },
    {
      "metadata": {
        "id": "PRvtFX0KDip6",
        "colab_type": "code",
        "outputId": "cd532393-88aa-45e9-8221-f8ed4aa49a69",
        "colab": {
          "base_uri": "https://localhost:8080/",
          "height": 98
        }
      },
      "cell_type": "code",
      "source": [
        "#program to read a number\n",
        "s=input(\"Please enter a number\")\n",
        "a=len(s)\n",
        "i_s=int(s)\n",
        "b=0;a_sum=0\n",
        "l=[]\n",
        "for i in range(7):\n",
        "        b=b*(10**a)+i_s\n",
        "        l.append(b)\n",
        "        a_sum=a_sum+b\n",
        "   \n",
        "print(a_sum) \n",
        "for i in l:\n",
        "    print(i,sep=\"\\n\",end=\"+\")\n",
        "    \n",
        "    "
      ],
      "execution_count": 0,
      "outputs": [
        {
          "output_type": "stream",
          "text": [
            "Please enter a number1236\n",
            "1236247237084944618074168652\n",
            "1236+12361236+123612361236+1236123612361236+12361236123612361236+123612361236123612361236+1236123612361236123612361236+"
          ],
          "name": "stdout"
        }
      ]
    },
    {
      "metadata": {
        "id": "uW2UaUmYhAEd",
        "colab_type": "code",
        "outputId": "87597f59-bf46-4e4b-dbcf-51fab4f29707",
        "colab": {
          "base_uri": "https://localhost:8080/",
          "height": 65
        }
      },
      "cell_type": "code",
      "source": [
        "#Python Program to Check Whether a Number is Positive or Negative\n",
        "s=int(input(\"Please enter a number\"))\n",
        "if(s>=0):\n",
        "    print(s,\"is positive\")\n",
        "else:\n",
        "    print(s,\"is negative\")"
      ],
      "execution_count": 0,
      "outputs": [
        {
          "output_type": "stream",
          "text": [
            "Please enter a number-5\n",
            "-5 is negative\n"
          ],
          "name": "stdout"
        }
      ]
    },
    {
      "metadata": {
        "id": "t2zIBmk3iFbX",
        "colab_type": "code",
        "outputId": "d96a6b27-2279-4718-e332-17ebda82fc36",
        "colab": {
          "base_uri": "https://localhost:8080/",
          "height": 68
        }
      },
      "cell_type": "code",
      "source": [
        "#Python Program to Read Two Numbers and Print Their Quotient and Remainder\n",
        "a=int(input(\"number 1 \"));b=int(input(\"number 2 \"))\n",
        "print(\"Quotient : \",a/b,\"Remainder : \",a%b)"
      ],
      "execution_count": 0,
      "outputs": [
        {
          "output_type": "stream",
          "text": [
            "number 1 23\n",
            "number 2 32\n",
            "Quotient :  0.71875 Remainder :  23\n"
          ],
          "name": "stdout"
        }
      ]
    },
    {
      "metadata": {
        "id": "VOH2WrKSja4N",
        "colab_type": "code",
        "outputId": "a88b97de-7f3b-4b8c-dfbf-e34cd80fd547",
        "colab": {
          "base_uri": "https://localhost:8080/",
          "height": 88
        }
      },
      "cell_type": "code",
      "source": [
        "#Python Program to Print Odd Numbers Within a Given Range\n",
        "a=int(input(\"number 1 \"));b=int(input(\"number 2 \"))\n",
        "if(a<b):\n",
        "    for i in range(a,b):\n",
        "        if(i%2==1):\n",
        "            print(i,sep=\"\\n\",end=\" \")\n",
        "elif(a>b):\n",
        "    for i in range(a,b,-1):\n",
        "        if(i%2==1):\n",
        "            print(i,sep=\"\\n\",end=\" \")\n",
        "else:\n",
        "   print(\"a and b are equal\")\n",
        "   if(a%2==1):\n",
        "        print(a)\n",
        "    \n",
        "\n",
        "      "
      ],
      "execution_count": 0,
      "outputs": [
        {
          "output_type": "stream",
          "text": [
            "number 1 1000\n",
            "number 2 678\n",
            "999 997 995 993 991 989 987 985 983 981 979 977 975 973 971 969 967 965 963 961 959 957 955 953 951 949 947 945 943 941 939 937 935 933 931 929 927 925 923 921 919 917 915 913 911 909 907 905 903 901 899 897 895 893 891 889 887 885 883 881 879 877 875 873 871 869 867 865 863 861 859 857 855 853 851 849 847 845 843 841 839 837 835 833 831 829 827 825 823 821 819 817 815 813 811 809 807 805 803 801 799 797 795 793 791 789 787 785 783 781 779 777 775 773 771 769 767 765 763 761 759 757 755 753 751 749 747 745 743 741 739 737 735 733 731 729 727 725 723 721 719 717 715 713 711 709 707 705 703 701 699 697 695 693 691 689 687 685 683 681 679 "
          ],
          "name": "stdout"
        }
      ]
    },
    {
      "metadata": {
        "id": "SKci-R4koK95",
        "colab_type": "code",
        "outputId": "e9f99073-5b09-4631-af6d-3505e8a8dfa7",
        "colab": {
          "base_uri": "https://localhost:8080/",
          "height": 68
        }
      },
      "cell_type": "code",
      "source": [
        "#Python Program to Find the Sum of Digits in a Number\n",
        "a=input(\"Please enter a number \")\n",
        "a_len=len(a)\n",
        "print(\"The number given is : \",a)\n",
        "b=int(a)\n",
        "i_val=b\n",
        "i_res=0;a_i3=0\n",
        "for i in range((a_len-1),-1,-1):\n",
        "    v_com=(10**i)#print(v_com,i)\n",
        "    a_i=i_val%v_com;a_i2=i_val//v_com\n",
        "    i_val=a_i\n",
        "    a_i3=a_i3+a_i2\n",
        "    #print(a_i3)\n",
        "   \n",
        "  \n",
        "print(\"The sum of the digits is: \",a_i3)\n"
      ],
      "execution_count": 0,
      "outputs": [
        {
          "output_type": "stream",
          "text": [
            "Please enter a number 123456\n",
            "The number given is :  123456\n",
            "The sum of the digits is:  21\n"
          ],
          "name": "stdout"
        }
      ]
    },
    {
      "metadata": {
        "id": "Uco5_nkS7pC2",
        "colab_type": "code",
        "outputId": "14921e06-b807-43b3-e905-3ab57cbc39e4",
        "colab": {
          "base_uri": "https://localhost:8080/",
          "height": 71
        }
      },
      "cell_type": "code",
      "source": [
        "#Python Program to Read a Number n And Print the Series \"1+2+…..+n= \"\n",
        "a=int(input(\"Please enter a number \"))\n",
        "for i in range(1,a,1):\n",
        "    if(i==(a-1)):\n",
        "        print(i)\n",
        "    else:\n",
        "        print(i,sep=\"\\n\",end=\",\")\n"
      ],
      "execution_count": 0,
      "outputs": [
        {
          "output_type": "stream",
          "text": [
            "Please enter a number 56\n",
            "1,2,3,4,5,6,7,8,9,10,11,12,13,14,15,16,17,18,19,20,21,22,23,24,25,26,27,28,29,30,31,32,33,34,35,36,37,38,39,40,41,42,43,44,45,46,47,48,49,50,51,52,53,54,55\n"
          ],
          "name": "stdout"
        }
      ]
    },
    {
      "metadata": {
        "id": "zFr2pYb6_2BT",
        "colab_type": "code",
        "outputId": "5a001831-5cec-41bf-f6bd-01c79c3ea4c5",
        "colab": {
          "base_uri": "https://localhost:8080/",
          "height": 34
        }
      },
      "cell_type": "code",
      "source": [
        "#Python Program to Print all Integers that Aren't Divisible by Either 2 or 3 and Lie between 1 and 50\n",
        "for i in range(1,50,1):\n",
        "    #print(i)\n",
        "    if(i==1): \n",
        "        continue\n",
        "    else:\n",
        "      if(i%2==0 or i%3==0):\n",
        "          continue\n",
        "      else:\n",
        "          print(i,sep=\"\\n\",end=\" \")\n"
      ],
      "execution_count": 0,
      "outputs": [
        {
          "output_type": "stream",
          "text": [
            "5 7 11 13 17 19 23 25 29 31 35 37 41 43 47 49 "
          ],
          "name": "stdout"
        }
      ]
    },
    {
      "metadata": {
        "id": "3w4XSJbGBtoZ",
        "colab_type": "code",
        "outputId": "5a2e8bf5-7f70-4b43-c0d7-77f5ef0c07d2",
        "colab": {
          "base_uri": "https://localhost:8080/",
          "height": 68
        }
      },
      "cell_type": "code",
      "source": [
        "#Python Program to Print all Numbers in a Range Divisible by a Given Number\n",
        "a=int(input(\"Please enter a number \"));b=int(input(\"Please enter a range\"))\n",
        "for i in range(1,b):\n",
        "       if(i%a==0):\n",
        "          print(i,sep=\"\\n\",end=\" \")\n",
        "    \n",
        "      "
      ],
      "execution_count": 0,
      "outputs": [
        {
          "output_type": "stream",
          "text": [
            "Please enter a number 15\n",
            "Please enter a range345\n",
            "15 30 45 60 75 90 105 120 135 150 165 180 195 210 225 240 255 270 285 300 315 330 "
          ],
          "name": "stdout"
        }
      ]
    },
    {
      "metadata": {
        "id": "Zgqa08MMz4iX",
        "colab_type": "code",
        "outputId": "6a71cc18-fb6a-4000-db50-c9f7154d50db",
        "colab": {
          "base_uri": "https://localhost:8080/",
          "height": 85
        }
      },
      "cell_type": "code",
      "source": [
        "a=input(\"Please enter a number \")\n",
        "a_len=len(a)\n",
        "print(\"The number given is : \",a)\n",
        "b=int(a)\n",
        "i_val=b\n",
        "l=[]\n",
        "for i in range((a_len-1),-1,-1):\n",
        "    v_com=(10**i)#print(v_com,i)\n",
        "    a_i=i_val%v_com;a_i2=i_val//v_com\n",
        "    i_val=a_i\n",
        "    l.append(a_i2)\n",
        "   \n",
        "  \n",
        "print(\"The reversed number is : \",sep=\"\\n\",end=\"\")\n",
        "for j in reversed(l):\n",
        "        print(j,sep=\"\\n\",end=\"\")\n",
        "\n",
        "\n",
        "l1=l.copy();l.reverse();print(l,l1)\n",
        "if(l==l1):\n",
        "    print(\"number is a palindrome\")"
      ],
      "execution_count": 0,
      "outputs": [
        {
          "output_type": "stream",
          "text": [
            "Please enter a number 7654567\n",
            "The number given is :  7654567\n",
            "The reversed number is : 7654567[7, 6, 5, 4, 5, 6, 7] [7, 6, 5, 4, 5, 6, 7]\n",
            "number is a palindrome\n"
          ],
          "name": "stdout"
        }
      ]
    },
    {
      "metadata": {
        "id": "4g00ek011KPa",
        "colab_type": "code",
        "outputId": "c64adf8b-003b-4688-fe16-65320266ce87",
        "colab": {
          "base_uri": "https://localhost:8080/",
          "height": 85
        }
      },
      "cell_type": "code",
      "source": [
        "#count number of digits\n",
        "a=input(\"Please enter a number \")\n",
        "a_len=len(a)\n",
        "print(\"The number given is : \",a)\n",
        "b=int(a)\n",
        "i_val=b\n",
        "l=[]\n",
        "for i in range((a_len-1),-1,-1):\n",
        "    v_com=(10**i)#print(v_com,i)\n",
        "    a_i=i_val%v_com;a_i2=i_val//v_com\n",
        "    i_val=a_i\n",
        "    l.append(a_i2)\n",
        "   \n",
        "  \n",
        "count=0\n",
        "for j in l:\n",
        "  count += 1\n",
        "  \n",
        "print(\"Number of digits in a given number is : \",count)\n",
        "\n",
        "        \n",
        "\n",
        "\n"
      ],
      "execution_count": 0,
      "outputs": [
        {
          "output_type": "stream",
          "text": [
            "Please enter a number 09876\n",
            "The number given is :  09876\n",
            "Number of digits in a given number is :  5\n",
            "0\n"
          ],
          "name": "stdout"
        }
      ]
    },
    {
      "metadata": {
        "id": "QqhoQ4ghFcB_",
        "colab_type": "code",
        "outputId": "8c4966c4-50e0-4897-8358-93e656534466",
        "colab": {
          "base_uri": "https://localhost:8080/",
          "height": 51
        }
      },
      "cell_type": "code",
      "source": [
        "#Python Program to Find the Smallest Divisor of an Integer\n",
        "a=int(input(\"Please enter a number \"));\n",
        "l=[]\n",
        "for i in range(1,a+1):\n",
        "       if(a%i==0):\n",
        "          #print(i,sep=\"\\n\",end=\" \")\n",
        "          if(i==1):\n",
        "              pass\n",
        "          else:\n",
        "              l.append(i)\n",
        "\n",
        "print(\"The smallest divisor of a given integer is : \",min(l))\n",
        "              "
      ],
      "execution_count": 0,
      "outputs": [
        {
          "output_type": "stream",
          "text": [
            "Please enter a number 23\n",
            "the smallest divisor of a given integer is :  23\n"
          ],
          "name": "stdout"
        }
      ]
    },
    {
      "metadata": {
        "id": "NpnzBuf0KrtX",
        "colab_type": "code",
        "outputId": "842277f4-f9e2-4541-e8b0-9887055d64e8",
        "colab": {
          "base_uri": "https://localhost:8080/",
          "height": 544
        }
      },
      "cell_type": "code",
      "source": [
        "#Python Program to Accept Three Digits and Print all Possible Combinations from the Digits\n",
        "a=int(input(\"Please enter a digit [0-9] \"));b=int(input(\"Please enter a digit [0-9] \"))\n",
        "c=int(input(\"Please enter a digit [0-9] \"))\n",
        "#abc,acb,cab,cba,bac,bca\n",
        "print(a,b,c)\n"
      ],
      "execution_count": 0,
      "outputs": [
        {
          "output_type": "stream",
          "text": [
            "Please enter a digit [0-9] 1\n",
            "Please enter a digit [0-9] 2\n",
            "Please enter a digit [0-9] 3\n",
            "1 2 3\n",
            "1 1 1\n",
            "1 1 2\n",
            "1 1 3\n",
            "1 2 1\n",
            "1 2 2\n",
            "1 2 3\n",
            "1 3 1\n",
            "1 3 2\n",
            "1 3 3\n",
            "2 1 1\n",
            "2 1 2\n",
            "2 1 3\n",
            "2 2 1\n",
            "2 2 2\n",
            "2 2 3\n",
            "2 3 1\n",
            "2 3 2\n",
            "2 3 3\n",
            "3 1 1\n",
            "3 1 2\n",
            "3 1 3\n",
            "3 2 1\n",
            "3 2 2\n",
            "3 2 3\n",
            "3 3 1\n",
            "3 3 2\n",
            "3 3 3\n"
          ],
          "name": "stdout"
        }
      ]
    },
    {
      "metadata": {
        "id": "3p76s4TELsDk",
        "colab_type": "code",
        "outputId": "a6077e01-89ec-42f4-8224-3c127638913e",
        "colab": {
          "base_uri": "https://localhost:8080/",
          "height": 789
        }
      },
      "cell_type": "code",
      "source": [
        "#Inverted pyramid  pattern using stars\n",
        "a=1\n",
        "b=45\n",
        "k=0\n",
        "for i in range(a,b):\n",
        "    k=b-i;j=1      #print(k)\n",
        "    print(\" \"*k,sep=\"\\n\",end=\" \")\n",
        "    while(j<=i) :\n",
        "        #print(j,i)\n",
        "        if(j<i):\n",
        "            print(\"*\",sep=\"\\n\",end=\" \")\n",
        "            j += 1\n",
        "        else:\n",
        "            print(\"*\")\n",
        "            j += 1\n",
        "            \n",
        "            \n"
      ],
      "execution_count": 0,
      "outputs": [
        {
          "output_type": "stream",
          "text": [
            "                                             *\n",
            "                                            * *\n",
            "                                           * * *\n",
            "                                          * * * *\n",
            "                                         * * * * *\n",
            "                                        * * * * * *\n",
            "                                       * * * * * * *\n",
            "                                      * * * * * * * *\n",
            "                                     * * * * * * * * *\n",
            "                                    * * * * * * * * * *\n",
            "                                   * * * * * * * * * * *\n",
            "                                  * * * * * * * * * * * *\n",
            "                                 * * * * * * * * * * * * *\n",
            "                                * * * * * * * * * * * * * *\n",
            "                               * * * * * * * * * * * * * * *\n",
            "                              * * * * * * * * * * * * * * * *\n",
            "                             * * * * * * * * * * * * * * * * *\n",
            "                            * * * * * * * * * * * * * * * * * *\n",
            "                           * * * * * * * * * * * * * * * * * * *\n",
            "                          * * * * * * * * * * * * * * * * * * * *\n",
            "                         * * * * * * * * * * * * * * * * * * * * *\n",
            "                        * * * * * * * * * * * * * * * * * * * * * *\n",
            "                       * * * * * * * * * * * * * * * * * * * * * * *\n",
            "                      * * * * * * * * * * * * * * * * * * * * * * * *\n",
            "                     * * * * * * * * * * * * * * * * * * * * * * * * *\n",
            "                    * * * * * * * * * * * * * * * * * * * * * * * * * *\n",
            "                   * * * * * * * * * * * * * * * * * * * * * * * * * * *\n",
            "                  * * * * * * * * * * * * * * * * * * * * * * * * * * * *\n",
            "                 * * * * * * * * * * * * * * * * * * * * * * * * * * * * *\n",
            "                * * * * * * * * * * * * * * * * * * * * * * * * * * * * * *\n",
            "               * * * * * * * * * * * * * * * * * * * * * * * * * * * * * * *\n",
            "              * * * * * * * * * * * * * * * * * * * * * * * * * * * * * * * *\n",
            "             * * * * * * * * * * * * * * * * * * * * * * * * * * * * * * * * *\n",
            "            * * * * * * * * * * * * * * * * * * * * * * * * * * * * * * * * * *\n",
            "           * * * * * * * * * * * * * * * * * * * * * * * * * * * * * * * * * * *\n",
            "          * * * * * * * * * * * * * * * * * * * * * * * * * * * * * * * * * * * *\n",
            "         * * * * * * * * * * * * * * * * * * * * * * * * * * * * * * * * * * * * *\n",
            "        * * * * * * * * * * * * * * * * * * * * * * * * * * * * * * * * * * * * * *\n",
            "       * * * * * * * * * * * * * * * * * * * * * * * * * * * * * * * * * * * * * * *\n",
            "      * * * * * * * * * * * * * * * * * * * * * * * * * * * * * * * * * * * * * * * *\n",
            "     * * * * * * * * * * * * * * * * * * * * * * * * * * * * * * * * * * * * * * * * *\n",
            "    * * * * * * * * * * * * * * * * * * * * * * * * * * * * * * * * * * * * * * * * * *\n",
            "   * * * * * * * * * * * * * * * * * * * * * * * * * * * * * * * * * * * * * * * * * * *\n",
            "  * * * * * * * * * * * * * * * * * * * * * * * * * * * * * * * * * * * * * * * * * * * *\n"
          ],
          "name": "stdout"
        }
      ]
    },
    {
      "metadata": {
        "id": "31GmR5nj85hB",
        "colab_type": "code",
        "outputId": "98d52d5b-2cc6-404d-960b-e433d75d457d",
        "colab": {
          "base_uri": "https://localhost:8080/",
          "height": 193
        }
      },
      "cell_type": "code",
      "source": [
        "k=0;c=11;d=1;\n",
        "for i in range(c,d,-1):\n",
        "    k=c-i;j=c     ;#print(k,i,j)\n",
        "    print(\" \"*k,sep=\"\\n\",end=\" \")\n",
        "    while(j>=i) :\n",
        "        #print(j,i)\n",
        "        if(j>i):\n",
        "            print(\"*\",sep=\"\\n\",end=\" \")\n",
        "            j -= 1\n",
        "        else:\n",
        "            print(\"8\")\n",
        "            j -= 1"
      ],
      "execution_count": 0,
      "outputs": [
        {
          "output_type": "stream",
          "text": [
            " 8\n",
            "  * 8\n",
            "   * * 8\n",
            "    * * * 8\n",
            "     * * * * 8\n",
            "      * * * * * 8\n",
            "       * * * * * * 8\n",
            "        * * * * * * * 8\n",
            "         * * * * * * * * 8\n",
            "          * * * * * * * * * 8\n"
          ],
          "name": "stdout"
        }
      ]
    },
    {
      "metadata": {
        "id": "iDhPjy_BVgnT",
        "colab_type": "code",
        "outputId": "ac0ddeab-253f-4000-dd4b-a2e6ff39631a",
        "colab": {
          "base_uri": "https://localhost:8080/",
          "height": 187
        }
      },
      "cell_type": "code",
      "source": [
        "a=10\n",
        "b=0\n",
        "k=0;j=1;\n",
        "if(a<b):\n",
        "    for i in range(a,b):\n",
        "        k=b-i;#print(k)\n",
        "        print(\" \"*(k-1),\"*\"*i+\"*\"*(i-1),\" \"*(k-1))\n",
        "if (a>b):\n",
        "    k=0\n",
        "    #print(\"here\")\n",
        "    for i in range(a,b,-1):\n",
        "       k=a-i;#print(k)\n",
        "       print(\" \"*(k),\"*\"*(i-1)+\"*\"*(i),\" \"*(k))\n",
        "\n",
        "\n"
      ],
      "execution_count": 0,
      "outputs": [
        {
          "output_type": "stream",
          "text": [
            " ******************* \n",
            "  *****************  \n",
            "   ***************   \n",
            "    *************    \n",
            "     ***********     \n",
            "      *********      \n",
            "       *******       \n",
            "        *****        \n",
            "         ***         \n",
            "          *          \n"
          ],
          "name": "stdout"
        }
      ]
    },
    {
      "metadata": {
        "id": "f5fxGD6j0jSz",
        "colab_type": "code",
        "outputId": "1d8a3a64-ec7a-4416-fd05-43e636c61314",
        "colab": {
          "base_uri": "https://localhost:8080/",
          "height": 102
        }
      },
      "cell_type": "code",
      "source": [
        "a=7\n",
        "if(a%2==0):\n",
        "  a=a+1\n",
        "  n=a//2\n",
        "else:\n",
        "  #a=a+1\n",
        "  n=a//2\n",
        "  \n",
        "  \n",
        "  \n",
        "for i in range(n+2,0,-1):\n",
        "  #n=a-i\n",
        "  print(\" \"*(n),\"*\"*(i-1)+\"*\"*(i),\" \"*(n))\n",
        "  #n = a-1\n",
        "  n= n-1\n",
        "  "
      ],
      "execution_count": 0,
      "outputs": [
        {
          "output_type": "stream",
          "text": [
            "    *********    \n",
            "   *******   \n",
            "  *****  \n",
            " *** \n",
            " * \n"
          ],
          "name": "stdout"
        }
      ]
    }
  ]
}