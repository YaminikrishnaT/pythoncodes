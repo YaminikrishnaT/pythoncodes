{
  "nbformat": 4,
  "nbformat_minor": 0,
  "metadata": {
    "colab": {
      "name": "dictionaries_python",
      "version": "0.3.2",
      "provenance": [],
      "collapsed_sections": [],
      "include_colab_link": true
    },
    "kernelspec": {
      "name": "python3",
      "display_name": "Python 3"
    }
  },
  "cells": [
    {
      "cell_type": "markdown",
      "metadata": {
        "id": "view-in-github",
        "colab_type": "text"
      },
      "source": [
        "<a href=\"https://colab.research.google.com/github/YaminikrishnaT/pythoncodes/blob/master/dictionaries_python.ipynb\" target=\"_parent\"><img src=\"https://colab.research.google.com/assets/colab-badge.svg\" alt=\"Open In Colab\"/></a>"
      ]
    },
    {
      "metadata": {
        "id": "BZq_UElHNR_1",
        "colab_type": "code",
        "outputId": "a7221c8d-843f-4aac-d346-5109ad102dd5",
        "colab": {
          "base_uri": "https://localhost:8080/",
          "height": 204
        }
      },
      "cell_type": "code",
      "source": [
        "#dictionaries\n",
        "#unordered,\n",
        "#keys should be immutable like tuple,strings and numbers\n",
        "d={\"Name\":\"Yani\",\"date\":13,3:\"class\",4:10.00}\n",
        "print(type(d))\n",
        "#dir(d)\n",
        "print(d.get(\"date\"))\n",
        "a=d.keys()\n",
        "print(\"Keys:\",list(a))\n",
        "b=d.values()\n",
        "print(\"Values:\",list(b))\n",
        "print(d[\"Name\"])\n",
        "d.pop(\"date\")\n",
        "print(d)\n",
        "d['address'] = 'Bejawada'\n",
        "print(d)\n",
        "for i in d.keys():\n",
        "  print(i,\"hu\")\n",
        "\n",
        "#design five words a dictionary,display keys and ask user to select a key and explain"
      ],
      "execution_count": 0,
      "outputs": [
        {
          "output_type": "stream",
          "text": [
            "<class 'dict'>\n",
            "13\n",
            "Keys: ['Name', 'date', 3, 4]\n",
            "Values: ['Yani', 13, 'class', 10.0]\n",
            "Yani\n",
            "{'Name': 'Yani', 3: 'class', 4: 10.0}\n",
            "{'Name': 'Yani', 3: 'class', 4: 10.0, 'address': 'Bejawada'}\n",
            "Name hu\n",
            "3 hu\n",
            "4 hu\n",
            "address hu\n"
          ],
          "name": "stdout"
        }
      ]
    },
    {
      "metadata": {
        "id": "HVYM2MbFnCCQ",
        "colab_type": "code",
        "outputId": "399ab2cb-6c74-4bf0-f068-6582db82016e",
        "colab": {
          "base_uri": "https://localhost:8080/",
          "height": 224
        }
      },
      "cell_type": "code",
      "source": [
        "#design five words a dictionary,display keys and ask user to select a key and explain\n",
        "d_word={\"apple\":\"An apple is a sweet, edible fruit produced by an apple tree\",\n",
        "         \"banana\":\"A banana is an edible fruit\",\n",
        "          \"guava\":\"Guava is a common tropical fruit cultivated in many tropical and subtropical regions\"}\n",
        "print(d_word)\n",
        "list_keys=d_word.keys()\n",
        "print(\"select any one of the words from the dictionary :\")\n",
        "for i in d_word.keys():\n",
        "    print(i)\n",
        "count=0\n",
        "while(count==0):\n",
        "    d_usr_sel=input()\n",
        "    print(d_usr_sel)\n",
        "    if(d_usr_sel not in d_word.keys()):\n",
        "        print(\"given word is not available in dictionary\")\n",
        "    else:\n",
        "        print(d_word[d_usr_sel.lower()])\n",
        "\n",
        "    print(\"Do you wish to continue?Y/N\")\n",
        "    s_usr_choice=input()\n",
        "    if(s_usr_choice==\"Y\"):\n",
        "        print(\"please choose another word\")\n",
        "        continue\n",
        "    else:\n",
        "        print(\"Thankyou\")\n",
        "        break\n",
        "    \n",
        "    \n",
        "#loop"
      ],
      "execution_count": 0,
      "outputs": [
        {
          "output_type": "stream",
          "text": [
            "{'apple': 'An apple is a sweet, edible fruit produced by an apple tree', 'banana': 'A banana is an edible fruit', 'guava': 'Guava is a common tropical fruit cultivated in many tropical and subtropical regions'}\n",
            "select any one of the words from the dictionary :\n",
            "apple\n",
            "banana\n",
            "guava\n",
            "mango\n",
            "mango\n",
            "given word is not available in dictionary\n",
            "Do you wish to continue?Y/N\n",
            "N\n",
            "Thankyou\n"
          ],
          "name": "stdout"
        }
      ]
    },
    {
      "metadata": {
        "id": "v1Ahn1c3LVqg",
        "colab_type": "code",
        "outputId": "809040dc-c042-48af-eb0b-6e1aa1165b7e",
        "colab": {
          "base_uri": "https://localhost:8080/",
          "height": 51
        }
      },
      "cell_type": "code",
      "source": [
        "squares = {x: x*x for x in range(25)}\n",
        "\n",
        "# Output: {0: 0, 1: 1, 2: 4, 3: 9, 4: 16, 5: 25}\n",
        "print(squares.keys())\n",
        "print(squares.values())\n",
        "\n",
        "odd_squares = {x: x*x for x in range(11) if x%2 == 1}\n",
        "\n",
        "# Output: {1: 1, 3: 9, 5: 25, 7: 49, 9: 81}\n",
        "print(odd_squares)"
      ],
      "execution_count": 0,
      "outputs": [
        {
          "output_type": "stream",
          "text": [
            "dict_keys([0, 1, 2, 3, 4, 5, 6, 7, 8, 9, 10, 11, 12, 13, 14, 15, 16, 17, 18, 19, 20, 21, 22, 23, 24])\n",
            "dict_values([0, 1, 4, 9, 16, 25, 36, 49, 64, 81, 100, 121, 144, 169, 196, 225, 256, 289, 324, 361, 400, 441, 484, 529, 576])\n"
          ],
          "name": "stdout"
        }
      ]
    }
  ]
}